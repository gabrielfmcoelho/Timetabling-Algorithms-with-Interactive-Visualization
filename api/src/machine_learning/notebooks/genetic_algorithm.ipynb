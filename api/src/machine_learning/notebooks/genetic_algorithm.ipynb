{
  "cells": [
    {
      "cell_type": "markdown",
      "metadata": {},
      "source": [
        "# Genetic Algorithm for Timetabling Problem"
      ]
    },
    {
      "cell_type": "markdown",
      "metadata": {},
      "source": [
        "## 0 - Configurations\n"
      ]
    },
    {
      "cell_type": "markdown",
      "metadata": {},
      "source": [
        "## 0.1 - Importing Libraries"
      ]
    },
    {
      "cell_type": "code",
      "execution_count": null,
      "metadata": {},
      "outputs": [
        {
          "ename": "",
          "evalue": "",
          "output_type": "error",
          "traceback": [
            "\u001b[1;31mA execução de células com 'Python 3.12.1' requer o pacote ipykernel.\n",
            "\u001b[1;31mExecute o seguinte comando para instalar \"ipykernel\" no ambiente do Python. \n",
            "\u001b[1;31mComando: \"/opt/homebrew/bin/python3.12 -m pip install ipykernel -U --user --force-reinstall\""
          ]
        }
      ],
      "source": [
        "from dataclasses import dataclass, Field\n",
        "from typing import List, Dict, Set, Tuple\n",
        "import time\n",
        "import random\n",
        "import json"
      ]
    },
    {
      "cell_type": "markdown",
      "metadata": {},
      "source": [
        "## 0.2 - Environmental Variables"
      ]
    },
    {
      "cell_type": "code",
      "execution_count": null,
      "metadata": {},
      "outputs": [
        {
          "ename": "",
          "evalue": "",
          "output_type": "error",
          "traceback": [
            "\u001b[1;31mA execução de células com 'Python 3.12.1' requer o pacote ipykernel.\n",
            "\u001b[1;31mExecute o seguinte comando para instalar \"ipykernel\" no ambiente do Python. \n",
            "\u001b[1;31mComando: \"/opt/homebrew/bin/python3.12 -m pip install ipykernel -U --user --force-reinstall\""
          ]
        }
      ],
      "source": [
        "MOCK_DATA_FOLDER_PATH = \"../../../data/mock/\"\n",
        "PROFESSORS_FILE_PATH = MOCK_DATA_FOLDER_PATH + \"teachers.json\"\n",
        "SUBJECTS_FILE_PATH = MOCK_DATA_FOLDER_PATH + \"subjects.json\"\n",
        "CLASSROOMS_FILE_PATH = MOCK_DATA_FOLDER_PATH + \"classrooms.json\"\n",
        "CLASSGROUPS_FILE_PATH = MOCK_DATA_FOLDER_PATH + \"classgroups.json\""
      ]
    },
    {
      "cell_type": "markdown",
      "metadata": {},
      "source": [
        "## 0.3 - Dataclasses"
      ]
    },
    {
      "cell_type": "code",
      "execution_count": null,
      "metadata": {},
      "outputs": [
        {
          "ename": "",
          "evalue": "",
          "output_type": "error",
          "traceback": [
            "\u001b[1;31mA execução de células com 'Python 3.12.1' requer o pacote ipykernel.\n",
            "\u001b[1;31mExecute o seguinte comando para instalar \"ipykernel\" no ambiente do Python. \n",
            "\u001b[1;31mComando: \"/opt/homebrew/bin/python3.12 -m pip install ipykernel -U --user --force-reinstall\""
          ]
        }
      ],
      "source": [
        "@dataclass\n",
        "class ClassGroup:\n",
        "    id: int\n",
        "    name: str\n",
        "    students: int\n",
        "\n",
        "    def __init__(self, class_group_name: str, class_group_data: dict) -> None:\n",
        "        self.id = class_group_data[\"id\"]\n",
        "        self.name = class_group_name\n",
        "        self.students = class_group_data[\"students\"]"
      ]
    },
    {
      "cell_type": "code",
      "execution_count": null,
      "metadata": {},
      "outputs": [
        {
          "ename": "",
          "evalue": "",
          "output_type": "error",
          "traceback": [
            "\u001b[1;31mA execução de células com 'Python 3.12.1' requer o pacote ipykernel.\n",
            "\u001b[1;31mExecute o seguinte comando para instalar \"ipykernel\" no ambiente do Python. \n",
            "\u001b[1;31mComando: \"/opt/homebrew/bin/python3.12 -m pip install ipykernel -U --user --force-reinstall\""
          ]
        }
      ],
      "source": [
        "@dataclass\n",
        "class Professor:\n",
        "    id: int\n",
        "    name: str\n",
        "    time_available: dict\n",
        "\n",
        "    def __init__(self, professor_name: str, professor_data: dict) -> None:\n",
        "        self.id = professor_data[\"id\"]\n",
        "        self.name = professor_name\n",
        "        self.time_available = professor_data[\"time_available\"]\n",
        "\n",
        "    @property\n",
        "    def availability(self) -> List[Set[str]]:\n",
        "        availability = []\n",
        "        for day, times in self.time_available.items():\n",
        "            for time in times:\n",
        "                availability.append((day, time))\n",
        "        return availability"
      ]
    },
    {
      "cell_type": "code",
      "execution_count": null,
      "metadata": {},
      "outputs": [
        {
          "ename": "",
          "evalue": "",
          "output_type": "error",
          "traceback": [
            "\u001b[1;31mA execução de células com 'Python 3.12.1' requer o pacote ipykernel.\n",
            "\u001b[1;31mExecute o seguinte comando para instalar \"ipykernel\" no ambiente do Python. \n",
            "\u001b[1;31mComando: \"/opt/homebrew/bin/python3.12 -m pip install ipykernel -U --user --force-reinstall\""
          ]
        }
      ],
      "source": [
        "@dataclass\n",
        "class Subject:\n",
        "    id: int\n",
        "    name: str\n",
        "    professors: List[str]\n",
        "    course_load: int\n",
        "\n",
        "    def __init__(self, subject_name: str, subject_data: dict) -> None:\n",
        "        self.id = subject_data[\"id\"]\n",
        "        self.name = subject_name\n",
        "        self.professors = subject_data[\"professors\"]\n",
        "        self.course_load = subject_data[\"course_load\"]"
      ]
    },
    {
      "cell_type": "code",
      "execution_count": null,
      "metadata": {},
      "outputs": [
        {
          "ename": "",
          "evalue": "",
          "output_type": "error",
          "traceback": [
            "\u001b[1;31mA execução de células com 'Python 3.12.1' requer o pacote ipykernel.\n",
            "\u001b[1;31mExecute o seguinte comando para instalar \"ipykernel\" no ambiente do Python. \n",
            "\u001b[1;31mComando: \"/opt/homebrew/bin/python3.12 -m pip install ipykernel -U --user --force-reinstall\""
          ]
        }
      ],
      "source": [
        "@dataclass\n",
        "class Classroom:\n",
        "    id: int\n",
        "    name: str\n",
        "    time_available: Dict[str, List[int]]\n",
        "    capacity: int\n",
        "    \n",
        "    def __init__(self, classroom_name: str, classroom_data: dict, capacity: int) -> None:\n",
        "        self.id = classroom_data[\"id\"]\n",
        "        self.name = classroom_name\n",
        "        self.time_available = classroom_data[\"time_available\"]\n",
        "        self.capacity = capacity\n",
        "\n",
        "    @property\n",
        "    def availability(self) -> List[Set[str]]:\n",
        "        availability = []\n",
        "        for day, times in self.time_available.items():\n",
        "            for time in times:\n",
        "                availability.append((day, time))\n",
        "        return availability"
      ]
    },
    {
      "cell_type": "code",
      "execution_count": null,
      "metadata": {},
      "outputs": [
        {
          "ename": "",
          "evalue": "",
          "output_type": "error",
          "traceback": [
            "\u001b[1;31mA execução de células com 'Python 3.12.1' requer o pacote ipykernel.\n",
            "\u001b[1;31mExecute o seguinte comando para instalar \"ipykernel\" no ambiente do Python. \n",
            "\u001b[1;31mComando: \"/opt/homebrew/bin/python3.12 -m pip install ipykernel -U --user --force-reinstall\""
          ]
        }
      ],
      "source": [
        "@dataclass\n",
        "class Gene:\n",
        "    professor: Professor\n",
        "    subject: Subject\n",
        "    day: str\n",
        "    time: int\n",
        "    classroom: Classroom\n",
        "    classgroup: ClassGroup\n",
        "\n",
        "    def __init__(self, professor: Professor, subject: Subject, day: str, time: int, classgroup: ClassGroup, classroom: Classroom) -> None:\n",
        "        self.professor = professor\n",
        "        self.subject = subject\n",
        "        self.day = day\n",
        "        self.time = time\n",
        "        self.classroom = classroom\n",
        "        self.classgroup = classgroup\n",
        "\n",
        "@dataclass\n",
        "class Chromosome:\n",
        "    genes: List[Gene]\n",
        "\n",
        "    def __init__(self) -> None:\n",
        "        self.genes = []\n",
        "\n",
        "    def add_gene(self, gene: Gene) -> None:\n",
        "        self.genes.append(gene)\n",
        "\n",
        "@dataclass\n",
        "class Population:\n",
        "    chromosomes: List[Chromosome]\n",
        "\n",
        "    def __init__(self) -> None:\n",
        "        self.chromosomes = []\n",
        "\n",
        "    def add_chromosome(self, chromosome: Chromosome) -> None:\n",
        "        self.chromosomes.append(chromosome)"
      ]
    },
    {
      "cell_type": "markdown",
      "metadata": {},
      "source": [
        "## 0.3 - Custom Classes"
      ]
    },
    {
      "cell_type": "code",
      "execution_count": null,
      "metadata": {},
      "outputs": [
        {
          "ename": "",
          "evalue": "",
          "output_type": "error",
          "traceback": [
            "\u001b[1;31mA execução de células com 'Python 3.12.1' requer o pacote ipykernel.\n",
            "\u001b[1;31mExecute o seguinte comando para instalar \"ipykernel\" no ambiente do Python. \n",
            "\u001b[1;31mComando: \"/opt/homebrew/bin/python3.12 -m pip install ipykernel -U --user --force-reinstall\""
          ]
        }
      ],
      "source": [
        "class MetricsEvaluator:\n",
        "    def __init__(self, model: str) -> None:\n",
        "        self.model = model\n",
        "        self.metrics = {\n",
        "            \"time_to_converge\": 0,\n",
        "            \"best_fitness\": 0,\n",
        "            \"best_chromosome\": None\n",
        "        }\n",
        "\n",
        "    def __repr__(self) -> str:\n",
        "        return f\"MetricsEvaluator({self.model})\"\n",
        "    \n",
        "    def __str__(self) -> str:\n",
        "        return f\"MetricsEvaluator of Model: {self.model} with Metrics: {self.metrics}\"\n",
        "\n",
        "    def start_timer(self):\n",
        "        self.start_time = time.time()\n",
        "\n",
        "    def stop_timer(self):\n",
        "        self.metrics[\"time_to_converge\"] = time.time() - self.start_time // 60\n",
        "\n",
        "    def update_metrics(self, best_chromosome: Chromosome, best_fitness: float):\n",
        "        self.metrics[\"best_fitness\"] = best_fitness\n",
        "        self.metrics[\"best_chromosome\"] = best_chromosome"
      ]
    },
    {
      "cell_type": "markdown",
      "metadata": {},
      "source": [
        "## 0.4 - Custom Functions"
      ]
    },
    {
      "cell_type": "code",
      "execution_count": null,
      "metadata": {},
      "outputs": [
        {
          "ename": "",
          "evalue": "",
          "output_type": "error",
          "traceback": [
            "\u001b[1;31mA execução de células com 'Python 3.12.1' requer o pacote ipykernel.\n",
            "\u001b[1;31mExecute o seguinte comando para instalar \"ipykernel\" no ambiente do Python. \n",
            "\u001b[1;31mComando: \"/opt/homebrew/bin/python3.12 -m pip install ipykernel -U --user --force-reinstall\""
          ]
        }
      ],
      "source": [
        "def load_data(file_path, data_class) -> dict:\n",
        "    with open(file_path, 'r') as file:\n",
        "        data = json.load(file)\n",
        "        for key, value in data.items():\n",
        "            data[key] = data_class(key, value)\n",
        "        return data"
      ]
    },
    {
      "cell_type": "code",
      "execution_count": null,
      "metadata": {},
      "outputs": [
        {
          "ename": "",
          "evalue": "",
          "output_type": "error",
          "traceback": [
            "\u001b[1;31mA execução de células com 'Python 3.12.1' requer o pacote ipykernel.\n",
            "\u001b[1;31mExecute o seguinte comando para instalar \"ipykernel\" no ambiente do Python. \n",
            "\u001b[1;31mComando: \"/opt/homebrew/bin/python3.12 -m pip install ipykernel -U --user --force-reinstall\""
          ]
        }
      ],
      "source": [
        "def calculate_quantity_of_classes(subjects: Dict[str, Subject], classrooms: Dict[str, Classroom]) -> float:\n",
        "    quantity_of_classes = 0\n",
        "    for subject in subjects.values():\n",
        "        quantity_of_classes += subject.course_load // 1.5\n",
        "    quantity_of_classes = quantity_of_classes * len(classrooms)\n",
        "    print(f\"Quantity of classes: {quantity_of_classes}\")\n",
        "    return quantity_of_classes"
      ]
    },
    {
      "cell_type": "code",
      "execution_count": null,
      "metadata": {},
      "outputs": [
        {
          "ename": "",
          "evalue": "",
          "output_type": "error",
          "traceback": [
            "\u001b[1;31mA execução de células com 'Python 3.12.1' requer o pacote ipykernel.\n",
            "\u001b[1;31mExecute o seguinte comando para instalar \"ipykernel\" no ambiente do Python. \n",
            "\u001b[1;31mComando: \"/opt/homebrew/bin/python3.12 -m pip install ipykernel -U --user --force-reinstall\""
          ]
        }
      ],
      "source": [
        "def generate_initial_population(population_size: int, subjects: Dict[str, Subject], professors: Dict[str, Professor], classrooms: Dict[str, Classroom]) -> Population:\n",
        "    print(f\"Creating population with {population_size} chromosomes, {len(subjects)} subjects, {len(professors)} professors and {len(classrooms)} classrooms\")\n",
        "    population = Population()\n",
        "    for _ in range(population_size):\n",
        "        chromosome = Chromosome()\n",
        "        for subject, subject_data in subjects.items():\n",
        "            for professor in subject_data.professors:\n",
        "                for classgroup in self.classgroups.values():\n",
        "                    for _ in range((subject_data.course_load // 36)):\n",
        "                        for classroom, classroom_data in classrooms.items():\n",
        "                            if classgroup.students <= classroom_data.capacity:\n",
        "                                day, time = random.choice(list(set(professors[professor].availability) & set(classroom_data.availability)))\n",
        "                                gene = Gene(professors[professor], subject_data, day, time)\n",
        "                                chromosome.add_gene(gene)\n",
        "        population.add_chromosome(chromosome)\n",
        "    #ic(population)\n",
        "    return population"
      ]
    },
    {
      "cell_type": "code",
      "execution_count": null,
      "metadata": {},
      "outputs": [
        {
          "ename": "",
          "evalue": "",
          "output_type": "error",
          "traceback": [
            "\u001b[1;31mA execução de células com 'Python 3.12.1' requer o pacote ipykernel.\n",
            "\u001b[1;31mExecute o seguinte comando para instalar \"ipykernel\" no ambiente do Python. \n",
            "\u001b[1;31mComando: \"/opt/homebrew/bin/python3.12 -m pip install ipykernel -U --user --force-reinstall\""
          ]
        }
      ],
      "source": [
        "def calculate_chromosome_fitness(chromosome: Chromosome) -> float:\n",
        "    fitness = 1.0\n",
        "    conflicts = 0\n",
        "\n",
        "    timeslot_count = {}\n",
        "    room_usage = {}\n",
        "\n",
        "    for gene in chromosome.genes:\n",
        "        # Contar uso de horários por professor\n",
        "        if (gene.professor.name, gene.day, gene.time) in timeslot_count:\n",
        "            timeslot_count[(gene.professor.name, gene.day, gene.time)] += 1\n",
        "        else:\n",
        "            timeslot_count[(gene.professor.name, gene.day, gene.time)] = 1\n",
        "\n",
        "        # Contar uso de salas\n",
        "        if (gene.subject.name, gene.day, gene.time) in room_usage:\n",
        "            room_usage[(gene.subject.name, gene.day, gene.time)] += 1\n",
        "        else:\n",
        "            room_usage[(gene.subject.name, gene.day, gene.time)] = 1\n",
        "\n",
        "    for count in timeslot_count.values():\n",
        "        if count > 1:\n",
        "            conflicts += (count - 1)\n",
        "\n",
        "    for count in room_usage.values():\n",
        "        if count > 1:\n",
        "            conflicts += (count - 1)\n",
        "            \n",
        "    for gene in chromosome.genes:\n",
        "        if gene.classgroup.students > gene.classroom.capacity:\n",
        "            conflicts += 1\n",
        "\n",
        "    # Reduzir a fitness por conflito\n",
        "    fitness -= conflicts * 0.1\n",
        "    \n",
        "    if fitness < 0:\n",
        "        fitness = 0\n",
        "\n",
        "    return fitness"
      ]
    },
    {
      "cell_type": "code",
      "execution_count": null,
      "metadata": {},
      "outputs": [
        {
          "ename": "",
          "evalue": "",
          "output_type": "error",
          "traceback": [
            "\u001b[1;31mA execução de células com 'Python 3.12.1' requer o pacote ipykernel.\n",
            "\u001b[1;31mExecute o seguinte comando para instalar \"ipykernel\" no ambiente do Python. \n",
            "\u001b[1;31mComando: \"/opt/homebrew/bin/python3.12 -m pip install ipykernel -U --user --force-reinstall\""
          ]
        }
      ],
      "source": [
        "def selection(population: Population) -> List[Chromosome]:\n",
        "    mating_pool = []\n",
        "    population_fitness = [(chromosome, calculate_chromosome_fitness(chromosome)) for chromosome in population.chromosomes]\n",
        "    population_fitness.sort(key=lambda x: x[1], reverse=True)\n",
        "\n",
        "    for i in range(len(population_fitness)):\n",
        "        if random.random() < (i / len(population_fitness)):\n",
        "            mating_pool.append(population_fitness[i][0])\n",
        "    return mating_pool"
      ]
    },
    {
      "cell_type": "code",
      "execution_count": null,
      "metadata": {},
      "outputs": [
        {
          "ename": "",
          "evalue": "",
          "output_type": "error",
          "traceback": [
            "\u001b[1;31mA execução de células com 'Python 3.12.1' requer o pacote ipykernel.\n",
            "\u001b[1;31mExecute o seguinte comando para instalar \"ipykernel\" no ambiente do Python. \n",
            "\u001b[1;31mComando: \"/opt/homebrew/bin/python3.12 -m pip install ipykernel -U --user --force-reinstall\""
          ]
        }
      ],
      "source": [
        "def crossover(mating_pool: List[Chromosome], CROSSOVER_RATE: float) -> List[Chromosome]:\n",
        "    offspring = []\n",
        "    for _ in range(len(mating_pool) // 2):\n",
        "        parent1 = random.choice(mating_pool)\n",
        "        parent2 = random.choice(mating_pool)\n",
        "        if random.random() < CROSSOVER_RATE:\n",
        "            point = random.randint(1, len(parent1.genes) - 1)\n",
        "            child1 = Chromosome()\n",
        "            child2 = Chromosome()\n",
        "            child1.genes = parent1.genes[:point] + parent2.genes[point:]\n",
        "            child2.genes = parent2.genes[:point] + parent1.genes[point:]\n",
        "            offspring.extend([child1, child2])\n",
        "        else:\n",
        "            offspring.extend([parent1, parent2])\n",
        "    return offspring"
      ]
    },
    {
      "cell_type": "code",
      "execution_count": null,
      "metadata": {},
      "outputs": [
        {
          "ename": "",
          "evalue": "",
          "output_type": "error",
          "traceback": [
            "\u001b[1;31mA execução de células com 'Python 3.12.1' requer o pacote ipykernel.\n",
            "\u001b[1;31mExecute o seguinte comando para instalar \"ipykernel\" no ambiente do Python. \n",
            "\u001b[1;31mComando: \"/opt/homebrew/bin/python3.12 -m pip install ipykernel -U --user --force-reinstall\""
          ]
        }
      ],
      "source": [
        "def mutate(mating_pool: List[Chromosome], MUTATION_RATE: float, professors: Dict[str, Professor], subjects: Dict[str, Subject], classrooms: Dict[str, Classroom]) -> List[Chromosome]:\n",
        "    for chromosome in mating_pool:\n",
        "        for gene in chromosome.genes:\n",
        "            if random.random() < MUTATION_RATE:\n",
        "                # available_times = list(set(professors[gene.professor.name].time_available) & set(classrooms))\n",
        "                available_times = list(set(self.professors[gene.professor.name].availability) & set(self.classrooms[gene.classroom.name].availability))\n",
        "                day, time = random.choice(available_times)\n",
        "                gene.day = day\n",
        "                gene.time = time\n",
        "    return mating_pool"
      ]
    },
    {
      "cell_type": "code",
      "execution_count": null,
      "metadata": {},
      "outputs": [
        {
          "ename": "",
          "evalue": "",
          "output_type": "error",
          "traceback": [
            "\u001b[1;31mA execução de células com 'Python 3.12.1' requer o pacote ipykernel.\n",
            "\u001b[1;31mExecute o seguinte comando para instalar \"ipykernel\" no ambiente do Python. \n",
            "\u001b[1;31mComando: \"/opt/homebrew/bin/python3.12 -m pip install ipykernel -U --user --force-reinstall\""
          ]
        }
      ],
      "source": [
        "def replace_population(population: Population, mating_pool: List[Chromosome]) -> List[Chromosome]:\n",
        "    population_fitness = [(chromosome, calculate_chromosome_fitness(chromosome)) for chromosome in population.chromosomes]\n",
        "    population_fitness.sort(key=lambda x: x[1])\n",
        "\n",
        "    mating_pool_fitness = [(chromosome, calculate_chromosome_fitness(chromosome)) for chromosome in mating_pool]\n",
        "    mating_pool_fitness.sort(key=lambda x: x[1], reverse=True)\n",
        "\n",
        "    for i in range(len(mating_pool_fitness)):\n",
        "        if mating_pool_fitness[i][1] > population_fitness[i][1]:\n",
        "            population_fitness[i] = mating_pool_fitness[i]\n",
        "\n",
        "    return [chromosome for chromosome, fitness in population_fitness]"
      ]
    },
    {
      "cell_type": "markdown",
      "metadata": {},
      "source": [
        "# 1 Model"
      ]
    },
    {
      "cell_type": "markdown",
      "metadata": {},
      "source": [
        "## 1.1 Load Data"
      ]
    },
    {
      "cell_type": "code",
      "execution_count": null,
      "metadata": {},
      "outputs": [
        {
          "ename": "",
          "evalue": "",
          "output_type": "error",
          "traceback": [
            "\u001b[1;31mA execução de células com 'Python 3.12.1' requer o pacote ipykernel.\n",
            "\u001b[1;31mExecute o seguinte comando para instalar \"ipykernel\" no ambiente do Python. \n",
            "\u001b[1;31mComando: \"/opt/homebrew/bin/python3.12 -m pip install ipykernel -U --user --force-reinstall\""
          ]
        }
      ],
      "source": [
        "relationship = {\n",
        "    PROFESSORS_FILE_PATH: Professor,\n",
        "    SUBJECTS_FILE_PATH: Subject,\n",
        "    CLASSROOMS_FILE_PATH: Classroom,\n",
        "    CLASSGROUPS_FILE_PATH: ClassGroup\n",
        "}"
      ]
    },
    {
      "cell_type": "code",
      "execution_count": null,
      "metadata": {},
      "outputs": [
        {
          "ename": "",
          "evalue": "",
          "output_type": "error",
          "traceback": [
            "\u001b[1;31mA execução de células com 'Python 3.12.1' requer o pacote ipykernel.\n",
            "\u001b[1;31mExecute o seguinte comando para instalar \"ipykernel\" no ambiente do Python. \n",
            "\u001b[1;31mComando: \"/opt/homebrew/bin/python3.12 -m pip install ipykernel -U --user --force-reinstall\""
          ]
        }
      ],
      "source": [
        "professors = load_data(PROFESSORS_FILE_PATH, relationship[PROFESSORS_FILE_PATH])\n",
        "professors"
      ]
    },
    {
      "cell_type": "code",
      "execution_count": null,
      "metadata": {},
      "outputs": [
        {
          "ename": "",
          "evalue": "",
          "output_type": "error",
          "traceback": [
            "\u001b[1;31mA execução de células com 'Python 3.12.1' requer o pacote ipykernel.\n",
            "\u001b[1;31mExecute o seguinte comando para instalar \"ipykernel\" no ambiente do Python. \n",
            "\u001b[1;31mComando: \"/opt/homebrew/bin/python3.12 -m pip install ipykernel -U --user --force-reinstall\""
          ]
        }
      ],
      "source": [
        "subjects = load_data(SUBJECTS_FILE_PATH, relationship[SUBJECTS_FILE_PATH])\n",
        "subjects"
      ]
    },
    {
      "cell_type": "code",
      "execution_count": null,
      "metadata": {},
      "outputs": [
        {
          "ename": "",
          "evalue": "",
          "output_type": "error",
          "traceback": [
            "\u001b[1;31mA execução de células com 'Python 3.12.1' requer o pacote ipykernel.\n",
            "\u001b[1;31mExecute o seguinte comando para instalar \"ipykernel\" no ambiente do Python. \n",
            "\u001b[1;31mComando: \"/opt/homebrew/bin/python3.12 -m pip install ipykernel -U --user --force-reinstall\""
          ]
        }
      ],
      "source": [
        "classrooms = load_data(CLASSROOMS_FILE_PATH, relationship[CLASSROOMS_FILE_PATH])\n",
        "classrooms"
      ]
    },
    {
      "cell_type": "code",
      "execution_count": null,
      "metadata": {},
      "outputs": [
        {
          "ename": "",
          "evalue": "",
          "output_type": "error",
          "traceback": [
            "\u001b[1;31mA execução de células com 'Python 3.12.1' requer o pacote ipykernel.\n",
            "\u001b[1;31mExecute o seguinte comando para instalar \"ipykernel\" no ambiente do Python. \n",
            "\u001b[1;31mComando: \"/opt/homebrew/bin/python3.12 -m pip install ipykernel -U --user --force-reinstall\""
          ]
        }
      ],
      "source": [
        "classgroups = load_data(CLASSGROUPS_FILE_PATH, relationship[CLASSGROUPS_FILE_PATH])\n",
        "classgroups"
      ]
    },
    {
      "cell_type": "markdown",
      "metadata": {},
      "source": [
        "## 1.2 Model Definition"
      ]
    },
    {
      "cell_type": "code",
      "execution_count": null,
      "metadata": {},
      "outputs": [
        {
          "ename": "",
          "evalue": "",
          "output_type": "error",
          "traceback": [
            "\u001b[1;31mA execução de células com 'Python 3.12.1' requer o pacote ipykernel.\n",
            "\u001b[1;31mExecute o seguinte comando para instalar \"ipykernel\" no ambiente do Python. \n",
            "\u001b[1;31mComando: \"/opt/homebrew/bin/python3.12 -m pip install ipykernel -U --user --force-reinstall\""
          ]
        }
      ],
      "source": [
        "POPULATION_SIZE = 100\n",
        "MUTATION_RATE = 0.1\n",
        "CROSSOVER_RATE = 0.8\n",
        "GENERATIONS = 1000\n",
        "FITNESS_THRESHOLD = 0.9"
      ]
    },
    {
      "cell_type": "code",
      "execution_count": null,
      "metadata": {
        "id": "sYnOosV6vCjC"
      },
      "outputs": [
        {
          "ename": "",
          "evalue": "",
          "output_type": "error",
          "traceback": [
            "\u001b[1;31mA execução de células com 'Python 3.12.1' requer o pacote ipykernel.\n",
            "\u001b[1;31mExecute o seguinte comando para instalar \"ipykernel\" no ambiente do Python. \n",
            "\u001b[1;31mComando: \"/opt/homebrew/bin/python3.12 -m pip install ipykernel -U --user --force-reinstall\""
          ]
        }
      ],
      "source": [
        "NUM_CLASSES = calculate_quantity_of_classes(subjects, classrooms)"
      ]
    },
    {
      "cell_type": "code",
      "execution_count": 170,
      "metadata": {},
      "outputs": [],
      "source": [
        "def genetic_algorithm(population_size: int, mutation_rate: float, crossover_rate: float, generations: int, fitness_threshold: float, subjects: Dict[str, Subject], professors: Dict[str, Professor], classrooms: Dict[str, Classroom], classgroups: Dict[str, ClassGroup]) -> Tuple[Chromosome, MetricsEvaluator]:\n",
        "    metrics_evaluator = MetricsEvaluator(\"Genetic Algorithm\")\n",
        "    metrics_evaluator.start_timer()\n",
        "    population = generate_initial_population(population_size, subjects, professors, classrooms)\n",
        "    best_chromosome = None\n",
        "    for generation in range(0, generations):\n",
        "        print(f\"Evaluating generation: {generation}\")\n",
        "\n",
        "        # Calcula a \"nota\" (fitness) de cada conjunto de horários\n",
        "        population_fitness = [calculate_chromosome_fitness(chromosome) for chromosome in population.chromosomes]\n",
        "\n",
        "        # Encontra a melhor \"nota\" atual\n",
        "        best_fitness = max(population_fitness)\n",
        "\n",
        "        if best_fitness >= fitness_threshold:\n",
        "            print(f\"Fitness threshold reached in generation {generation}\")\n",
        "            best_chromosome = population.chromosomes[population_fitness.index(best_fitness)]\n",
        "            break\n",
        "\n",
        "        mating_pool = selection(population)\n",
        "        mating_pool = crossover(mating_pool, crossover_rate)\n",
        "        mating_pool = mutate(mating_pool, mutation_rate, professors, subjects, classrooms)\n",
        "        population = replace_population(population, mating_pool)\n",
        "\n",
        "    if best_chromosome is None:\n",
        "        best_chromosome = population.chromosomes[population_fitness.index(max(population_fitness))]\n",
        "    metrics_evaluator.stop_timer()\n",
        "    metrics_evaluator.update_metrics(best_chromosome, best_fitness)\n",
        "    print(f\"Best chromosome: {best_chromosome}, Fitness: {best_fitness}\")\n",
        "    return best_chromosome, metrics_evaluator"
      ]
    },
    {
      "cell_type": "markdown",
      "metadata": {},
      "source": [
        "## 2 Experiment"
      ]
    },
    {
      "cell_type": "code",
      "execution_count": 171,
      "metadata": {
        "colab": {
          "base_uri": "https://localhost:8080/"
        },
        "id": "_SyFOMSavOrE",
        "outputId": "910595e9-9175-4c99-f0c2-75f019f25cea"
      },
      "outputs": [
        {
          "name": "stdout",
          "output_type": "stream",
          "text": [
            "Creating population with 100 chromosomes, 4 subjects, 4 professors and 1 classrooms\n",
            "Evaluating generation: 0\n",
            "Fitness threshold reached in generation 0\n",
            "Best chromosome: Chromosome(genes=[Gene(professor=Professor(id=1, name='Neto', time_available={'Segunda': [19, 20, 21], 'Terça': [18, 21], 'Quarta': [18, 19, 20, 21], 'Sexta': [18, 19, 20, 21]}), subject=Subject(id=1, name='Redes', professors=['Neto'], course_load=72), day='Terça', time=18), Gene(professor=Professor(id=1, name='Neto', time_available={'Segunda': [19, 20, 21], 'Terça': [18, 21], 'Quarta': [18, 19, 20, 21], 'Sexta': [18, 19, 20, 21]}), subject=Subject(id=1, name='Redes', professors=['Neto'], course_load=72), day='Sexta', time=20), Gene(professor=Professor(id=2, name='Chiquinho', time_available={'Segunda': [18, 19, 20], 'Terça': [18, 19, 20], 'Quarta': [18, 19, 20], 'Quinta': [18, 19, 20], 'Sexta': [18, 19, 20]}), subject=Subject(id=2, name='Logica', professors=['Chiquinho'], course_load=36), day='Quinta', time=19), Gene(professor=Professor(id=3, name='Maria', time_available={'Segunda': [18, 19, 20], 'Terça': [18, 19, 20], 'Quarta': [18, 19, 20], 'Quinta': [18, 19, 20], 'Sexta': [18, 19, 20]}), subject=Subject(id=3, name='Matematica', professors=['Maria'], course_load=36), day='Quinta', time=18), Gene(professor=Professor(id=4, name='Joao', time_available={'Segunda': [18, 19, 20, 21], 'Terça': [18, 19, 20, 21], 'Quarta': [18, 19, 20, 21], 'Quinta': [18, 19, 20, 21], 'Sexta': [18, 19, 20, 21]}), subject=Subject(id=4, name='Fisica', professors=['Joao'], course_load=72), day='Segunda', time=18), Gene(professor=Professor(id=4, name='Joao', time_available={'Segunda': [18, 19, 20, 21], 'Terça': [18, 19, 20, 21], 'Quarta': [18, 19, 20, 21], 'Quinta': [18, 19, 20, 21], 'Sexta': [18, 19, 20, 21]}), subject=Subject(id=4, name='Fisica', professors=['Joao'], course_load=72), day='Quarta', time=21)]), Fitness: 1.0\n"
          ]
        }
      ],
      "source": [
        "best_timetable, metrics = genetic_algorithm(\n",
        "    POPULATION_SIZE,\n",
        "    MUTATION_RATE,\n",
        "    CROSSOVER_RATE,\n",
        "    GENERATIONS,\n",
        "    FITNESS_THRESHOLD,\n",
        "    subjects,\n",
        "    professors,\n",
        "    classrooms,\n",
        "    classgroups\n",
        ")"
      ]
    },
    {
      "cell_type": "code",
      "execution_count": 172,
      "metadata": {},
      "outputs": [
        {
          "name": "stdout",
          "output_type": "stream",
          "text": [
            "MetricsEvaluator of Model: Genetic Algorithm with Metrics: {'time_to_converge': 0.002635955810546875, 'best_fitness': 1.0, 'best_chromosome': Chromosome(genes=[Gene(professor=Professor(id=1, name='Neto', time_available={'Segunda': [19, 20, 21], 'Terça': [18, 21], 'Quarta': [18, 19, 20, 21], 'Sexta': [18, 19, 20, 21]}), subject=Subject(id=1, name='Redes', professors=['Neto'], course_load=72), day='Terça', time=18), Gene(professor=Professor(id=1, name='Neto', time_available={'Segunda': [19, 20, 21], 'Terça': [18, 21], 'Quarta': [18, 19, 20, 21], 'Sexta': [18, 19, 20, 21]}), subject=Subject(id=1, name='Redes', professors=['Neto'], course_load=72), day='Sexta', time=20), Gene(professor=Professor(id=2, name='Chiquinho', time_available={'Segunda': [18, 19, 20], 'Terça': [18, 19, 20], 'Quarta': [18, 19, 20], 'Quinta': [18, 19, 20], 'Sexta': [18, 19, 20]}), subject=Subject(id=2, name='Logica', professors=['Chiquinho'], course_load=36), day='Quinta', time=19), Gene(professor=Professor(id=3, name='Maria', time_available={'Segunda': [18, 19, 20], 'Terça': [18, 19, 20], 'Quarta': [18, 19, 20], 'Quinta': [18, 19, 20], 'Sexta': [18, 19, 20]}), subject=Subject(id=3, name='Matematica', professors=['Maria'], course_load=36), day='Quinta', time=18), Gene(professor=Professor(id=4, name='Joao', time_available={'Segunda': [18, 19, 20, 21], 'Terça': [18, 19, 20, 21], 'Quarta': [18, 19, 20, 21], 'Quinta': [18, 19, 20, 21], 'Sexta': [18, 19, 20, 21]}), subject=Subject(id=4, name='Fisica', professors=['Joao'], course_load=72), day='Segunda', time=18), Gene(professor=Professor(id=4, name='Joao', time_available={'Segunda': [18, 19, 20, 21], 'Terça': [18, 19, 20, 21], 'Quarta': [18, 19, 20, 21], 'Quinta': [18, 19, 20, 21], 'Sexta': [18, 19, 20, 21]}), subject=Subject(id=4, name='Fisica', professors=['Joao'], course_load=72), day='Quarta', time=21)])}\n"
          ]
        }
      ],
      "source": [
        "print(metrics)"
      ]
    },
    {
      "cell_type": "markdown",
      "metadata": {},
      "source": [
        "# 3 Final Model"
      ]
    },
    {
      "cell_type": "code",
      "execution_count": null,
      "metadata": {},
      "outputs": [],
      "source": [
        "\n",
        "class MetricsEvaluator:\n",
        "    def __init__(self, model: str) -> None:\n",
        "        self.model = model\n",
        "        self.metrics = {\n",
        "            \"time_to_converge\": 0,\n",
        "            \"best_fitness\": 0,\n",
        "            \"best_chromosome\": None\n",
        "        }\n",
        "\n",
        "    def __repr__(self) -> str:\n",
        "        return f\"MetricsEvaluator({self.model})\"\n",
        "    \n",
        "    def __str__(self) -> str:\n",
        "        return f\"MetricsEvaluator of Model: {self.model} with Metrics: {self.metrics}\"\n",
        "\n",
        "    def start_timer(self):\n",
        "        self.start_time = time.time()\n",
        "\n",
        "    def stop_timer(self):\n",
        "        self.metrics[\"time_to_converge\"] = time.time() - self.start_time // 60\n",
        "\n",
        "    def update_metrics(self, best_chromosome: Chromosome, best_fitness: float):\n",
        "        self.metrics[\"best_fitness\"] = best_fitness\n",
        "        self.metrics[\"best_chromosome\"] = best_chromosome\n",
        "        \n",
        "class GeneticAlgorithm:\n",
        "    def __init__(self, population_size: int, mutation_rate: float, crossover_rate: float, generations: int, fitness_threshold: float, subjects: Dict[str, Subject], professors: Dict[str, Professor], classrooms: Dict[str, Classroom], classgroups: Dict[str, ClassGroup]) -> None:\n",
        "        self.population_size = population_size\n",
        "        self.mutation_rate = mutation_rate\n",
        "        self.crossover_rate = crossover_rate\n",
        "        self.generations = generations\n",
        "        self.fitness_threshold = fitness_threshold\n",
        "        self.subjects = subjects\n",
        "        self.professors = professors\n",
        "        self.classrooms = classrooms\n",
        "        self.classrooms = classrooms\n",
        "        self.classgroups = classgroups\n",
        "\n",
        "\n",
        "    def generate_initial_population(self) -> Population:\n",
        "        print(f\"Creating population with {self.population_size} chromosomes, {len(self.subjects)} subjects, {len(self.professors)} professors and {len(self.classrooms)} classrooms\")\n",
        "        population = Population()\n",
        "        for _ in range(self.population_size):\n",
        "            chromosome = Chromosome()\n",
        "            for subject, subject_data in self.subjects.items():\n",
        "                for professor in subject_data.professors:\n",
        "                    for classgroup in self.classgroups.values():\n",
        "                        for _ in range((subject_data.course_load // 36)):\n",
        "                            for classroom, classroom_data in self.classrooms.items():\n",
        "                                if classgroup.students <= classroom_data.capacity:\n",
        "                                    day, time = random.choice(list(set(self.professors[professor].availability) & set(classroom_data.availability)))\n",
        "                                    gene = Gene(self.professors[professor], subject_data, day, time)\n",
        "                                    chromosome.add_gene(gene)\n",
        "            population.add_chromosome(chromosome)\n",
        "        return population\n",
        "    \n",
        "    def calculate_chromosome_fitness(self, chromosome: Chromosome) -> float:\n",
        "        fitness = 1.0\n",
        "        conflicts = 0\n",
        "        timeslot_count = {}\n",
        "        room_usage = {}\n",
        "        for gene in chromosome.genes:\n",
        "            # Contar uso de horários por professor\n",
        "            if (gene.professor.name, gene.day, gene.time) in timeslot_count:\n",
        "                timeslot_count[(gene.professor.name, gene.day, gene.time)] += 1\n",
        "            else:\n",
        "                timeslot_count[(gene.professor.name, gene.day, gene.time)] = 1\n",
        "            # Contar uso de salas\n",
        "            if (gene.subject.name, gene.day, gene.time) in room_usage:\n",
        "                room_usage[(gene.subject.name, gene.day, gene.time)] += 1\n",
        "            else:\n",
        "                room_usage[(gene.subject.name, gene.day, gene.time)] = 1\n",
        "        for count in timeslot_count.values():\n",
        "            if count > 1:\n",
        "                conflicts += (count - 1)\n",
        "        for count in room_usage.values():\n",
        "            if count > 1:\n",
        "                conflicts += (count - 1)\n",
        "        # Verificar capacidade da sala\n",
        "        for gene in chromosome.genes:\n",
        "            if gene.classgroup.students > gene.classroom.capacity:\n",
        "                conflicts += 1\n",
        "        # Reduzir a fitness por conflito\n",
        "        fitness -= conflicts * 0.1\n",
        "        if fitness < 0:\n",
        "            fitness = 0\n",
        "        return fitness\n",
        "    \n",
        "    def selection(self, population: Population) -> List[Chromosome]:\n",
        "        mating_pool = []\n",
        "        population_fitness = [(chromosome, self.calculate_chromosome_fitness(chromosome)) for chromosome in population.chromosomes]\n",
        "        population_fitness.sort(key=lambda x: x[1], reverse=True)\n",
        "        for i in range(len(population_fitness)):\n",
        "            if random.random() < (i / len(population_fitness)):\n",
        "                mating_pool.append(population_fitness[i][0])\n",
        "        return mating_pool\n",
        "    \n",
        "    def crossover(self, mating_pool: List[Chromosome]) -> List[Chromosome]:\n",
        "        offspring = []\n",
        "        for _ in range(len(mating_pool) // 2):\n",
        "            parent1 = random.choice(mating_pool)\n",
        "            parent2 = random.choice(mating_pool)\n",
        "            if random.random() < self.crossover_rate:\n",
        "                point = random.randint(1, len(parent1.genes) - 1)\n",
        "                child1 = Chromosome()\n",
        "                child2 = Chromosome()\n",
        "                child1.genes = parent1.genes[:point] + parent2.genes[point:]\n",
        "                child2.genes = parent2.genes[:point] + parent1.genes[point:]\n",
        "                offspring.extend([child1, child2])\n",
        "            else:\n",
        "                offspring.extend([parent1, parent2])\n",
        "        return offspring\n",
        "    \n",
        "    def mutate(self, mating_pool: List[Chromosome]) -> List[Chromosome]:\n",
        "        for chromosome in mating_pool:\n",
        "            for gene in chromosome.genes:\n",
        "                if random.random() < self.mutation_rate:\n",
        "                    # available_times = list(set(self.professors[gene.professor.name].time_available) & set(self.classrooms))\n",
        "                    available_times = list(set(self.professors[gene.professor.name].availability) & set(self.classrooms[gene.classroom.name].availability))\n",
        "                    day, time = random.choice(available_times)\n",
        "                    gene.day = day\n",
        "                    gene.time = time\n",
        "        return mating_pool\n",
        "    \n",
        "    def replace_population(self, population: Population, mating_pool: List[Chromosome]) -> List[Chromosome]:\n",
        "        population_fitness = [(chromosome, self.calculate_chromosome_fitness(chromosome)) for chromosome in population.chromosomes]\n",
        "        population_fitness.sort(key=lambda x: x[1])\n",
        "        mating_pool_fitness = [(chromosome, self.calculate_chromosome_fitness(chromosome)) for chromosome in mating_pool]\n",
        "        mating_pool_fitness.sort(key=lambda x: x[1], reverse=True)\n",
        "        for i in range(len(mating_pool_fitness)):\n",
        "            if mating_pool_fitness[i][1] > population_fitness[i][1]:\n",
        "                population_fitness[i] = mating_pool_fitness[i]\n",
        "        return [chromosome for chromosome, fitness in population_fitness]\n",
        "\n",
        "    def run(self) -> Tuple[Chromosome, MetricsEvaluator]:\n",
        "        metrics_evaluator = MetricsEvaluator(\"Genetic Algorithm\")\n",
        "        metrics_evaluator.start_timer()\n",
        "        population = generate_initial_population(self.population_size, self.subjects, self.professors, self.classrooms)\n",
        "        best_chromosome = None\n",
        "        for generation in range(0, self.generations):\n",
        "            print(f\"Evaluating generation: {generation}\")\n",
        "\n",
        "            # Calcula a \"nota\" (fitness) de cada conjunto de horários\n",
        "            population_fitness = [calculate_chromosome_fitness(chromosome) for chromosome in population.chromosomes]\n",
        "\n",
        "            # Encontra a melhor \"nota\" atual\n",
        "            best_fitness = max(population_fitness)\n",
        "\n",
        "            if best_fitness >= self.fitness_threshold:\n",
        "                print(f\"Fitness threshold reached in generation {generation}\")\n",
        "                best_chromosome = population.chromosomes[population_fitness.index(best_fitness)]\n",
        "                break\n",
        "\n",
        "            mating_pool = selection(population)\n",
        "            mating_pool = crossover(mating_pool, self.crossover_rate)\n",
        "            mating_pool = mutate(mating_pool, self.mutation_rate, self.professors, self.subjects, self.classrooms)\n",
        "            population = replace_population(population, mating_pool)\n",
        "\n",
        "        if best_chromosome is None:\n",
        "            best_chromosome = population.chromosomes[population_fitness.index(max(population_fitness))]\n",
        "        metrics_evaluator.stop_timer()\n",
        "        metrics_evaluator.update_metrics(best_chromosome, best_fitness)\n",
        "        print(f\"Best chromosome: {best_chromosome}, Fitness: {best_fitness}\")\n",
        "        return best_chromosome, metrics_evaluator"
      ]
    }
  ],
  "metadata": {
    "colab": {
      "provenance": []
    },
    "kernelspec": {
      "display_name": "Python 3",
      "name": "python3"
    },
    "language_info": {
      "codemirror_mode": {
        "name": "ipython",
        "version": 3
      },
      "file_extension": ".py",
      "mimetype": "text/x-python",
      "name": "python",
      "nbconvert_exporter": "python",
      "pygments_lexer": "ipython3",
      "version": "3.12.1"
    }
  },
  "nbformat": 4,
  "nbformat_minor": 0
}
