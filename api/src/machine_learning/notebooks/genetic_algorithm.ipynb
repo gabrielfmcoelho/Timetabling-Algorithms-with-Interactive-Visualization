{
  "cells": [
    {
      "cell_type": "markdown",
      "metadata": {},
      "source": [
        "# Genetic Algorithm for Timetabling Problem"
      ]
    },
    {
      "cell_type": "markdown",
      "metadata": {},
      "source": [
        "## 0 - Configurations\n"
      ]
    },
    {
      "cell_type": "markdown",
      "metadata": {},
      "source": [
        "## 0.1 - Importing Libraries"
      ]
    },
    {
      "cell_type": "code",
      "execution_count": 1,
      "metadata": {},
      "outputs": [],
      "source": [
        "from dataclasses import dataclass, Field\n",
        "from typing import List, Dict, Set, Tuple, Any\n",
        "import time\n",
        "import random\n",
        "import json"
      ]
    },
    {
      "cell_type": "markdown",
      "metadata": {},
      "source": [
        "## 0.2 - Environmental Variables"
      ]
    },
    {
      "cell_type": "code",
      "execution_count": 2,
      "metadata": {},
      "outputs": [],
      "source": [
        "MOCK_DATA_FOLDER_PATH = \"../../../data/mock/\"\n",
        "PROFESSORS_FILE_PATH = MOCK_DATA_FOLDER_PATH + \"teachers.json\"\n",
        "SUBJECTS_FILE_PATH = MOCK_DATA_FOLDER_PATH + \"subjects.json\"\n",
        "CLASSROOMS_FILE_PATH = MOCK_DATA_FOLDER_PATH + \"classrooms.json\"\n",
        "CLASSGROUPS_FILE_PATH = MOCK_DATA_FOLDER_PATH + \"classgroup.json\"\n",
        "DAYS_FILE_PATH = MOCK_DATA_FOLDER_PATH + \"days.json\""
      ]
    },
    {
      "cell_type": "markdown",
      "metadata": {},
      "source": [
        "## 0.3 - Dataclasses"
      ]
    },
    {
      "cell_type": "code",
      "execution_count": 3,
      "metadata": {},
      "outputs": [],
      "source": [
        "@dataclass\n",
        "class ClassGroup:\n",
        "    id: int\n",
        "    name: str\n",
        "    students: int\n",
        "\n",
        "    def __init__(self, class_group_id: int, class_group_data: dict) -> None:\n",
        "        self.id = class_group_id\n",
        "        self.name = class_group_data[\"name\"]\n",
        "        self.students = class_group_data[\"studentsAmount\"]"
      ]
    },
    {
      "cell_type": "code",
      "execution_count": 5,
      "metadata": {},
      "outputs": [],
      "source": [
        "@dataclass\n",
        "class Subject:\n",
        "    id: int\n",
        "    name: str\n",
        "    : List[str]\n",
        "    course_load: int\n",
        "\n",
        "    def __init__(self, subject_name: str, subject_data: dict) -> None:\n",
        "        self.id = subject_data[\"id\"]\n",
        "        self.name = subject_name\n",
        "        self.professors = subject_data[\"professors\"]\n",
        "        self.course_load = subject_data[\"course_load\"]"
      ]
    },
    {
      "cell_type": "code",
      "execution_count": 4,
      "metadata": {},
      "outputs": [],
      "source": [
        "@dataclass\n",
        "class Professor:\n",
        "    id: int\n",
        "    name: str\n",
        "    subjects_taughtble_id: List[int]\n",
        "    time_available: dict\n",
        "\n",
        "    def __init__(self, professor_name: str, professor_data: dict) -> None:\n",
        "        self.id = professor_data[\"id\"]\n",
        "        self.name = professor_name\n",
        "        self.time_available = professor_data[\"time_available\"]\n",
        "\n",
        "    @property\n",
        "    def availability(self) -> List[Set[str]]:\n",
        "        availability = []\n",
        "        for day, times in self.time_available.items():\n",
        "            for time in times:\n",
        "                availability.append((day, time))\n",
        "        return availability"
      ]
    },
    {
      "cell_type": "code",
      "execution_count": 6,
      "metadata": {},
      "outputs": [],
      "source": [
        "@dataclass\n",
        "class Classroom:\n",
        "    id: int\n",
        "    name: str\n",
        "    time_available: Dict[str, List[int]]\n",
        "    capacity: int\n",
        "    \n",
        "    def __init__(self, classroom_name: str, classroom_data: dict) -> None:\n",
        "        self.id = classroom_data[\"id\"]\n",
        "        self.name = classroom_name\n",
        "        self.time_available = classroom_data[\"time_available\"]\n",
        "        self.capacity = classroom_data[\"capacity\"]\n",
        "\n",
        "    @property\n",
        "    def availability(self) -> List[Set[str]]:\n",
        "        availability = []\n",
        "        for day, times in self.time_available.items():\n",
        "            for time in times:\n",
        "                availability.append((day, time))\n",
        "        return availability"
      ]
    },
    {
      "cell_type": "code",
      "execution_count": 7,
      "metadata": {},
      "outputs": [],
      "source": [
        "@dataclass\n",
        "class Gene:\n",
        "    classgroup_id: int\n",
        "    classgroup_students: int\n",
        "    subject_id: int\n",
        "    professor_id: int\n",
        "    professor_day: str\n",
        "    professor_time: int\n",
        "    classroom_capacity: int\n",
        "    \n",
        "    def __init__(self, classgroup_id: int, classgroup_students: int, subject_id: int, professor_id: int, professor_day: str, professor_time: int, classroom_capacity: int) -> None:\n",
        "        self.classgroup_id = classgroup_id\n",
        "        self.classgroup_students = classgroup_students\n",
        "        self.subject_id = subject_id\n",
        "        self.professor_id = professor_id\n",
        "        self.professor_day = professor_day\n",
        "        self.professor_time = professor_time\n",
        "        self.classroom_capacity = classroom_capacity\n",
        "\n",
        "@dataclass\n",
        "class Chromosome:\n",
        "    genes: List[Gene]\n",
        "\n",
        "    def __init__(self) -> None:\n",
        "        self.genes = []\n",
        "\n",
        "    def add_gene(self, gene: Gene) -> None:\n",
        "        self.genes.append(gene)\n",
        "\n",
        "@dataclass\n",
        "class Population:\n",
        "    chromosomes: List[Tuple[Chromosome, float]]\n",
        "\n",
        "    def __init__(self) -> None:\n",
        "        self.chromosomes = []\n",
        "\n",
        "    def generate_population_from_data(self, population_size: int, subjects: Dict[str, Subject], professors: Dict[str, Professor], classrooms: Dict[str, Classroom], classgroups: Dict[str, ClassGroup]) -> None:\n",
        "        for _ in range(population_size):\n",
        "            chromosome = Chromosome()\n",
        "            for classgroup_name, classgroup in classgroups.items(): # Para cada turma com x alunos\n",
        "                for subject_name, subject in subjects.items(): # Para cada disciplina\n",
        "                    for professor_name in subject.professors: # Para cada professor que habilitado para dar a disciplina\n",
        "                        professor = professors[professor_id]\n",
        "                        for classroom_name, classroom in classrooms.items(): # Para cada sala\n",
        "                            for hous in range(subject.course_load // 36): # Para cada aula na semana (1 ou 2 aulas por semana a depender da carga horária da disciplina)\n",
        "                                day = random.choice(list(professor.time_available.keys())) # Dia aleatório dos dias disponíveis do professor\n",
        "                                time = random.choice(professor.time_available[day]) # Horário aleatório dos horários disponíveis do professor\n",
        "                                gene = Gene(professor.name, subject.name, day, time, classgroup, classroom) \n",
        "                            chromosome.add_gene(gene)\n",
        "            self.add_chromosome(chromosome)\n",
        "\n",
        "    def add_chromosome(self, chromosome: Chromosome, fitness: float = 0) -> None:\n",
        "        self.chromosomes.append((chromosome, fitness))"
      ]
    },
    {
      "cell_type": "code",
      "execution_count": null,
      "metadata": {},
      "outputs": [],
      "source": [
        "@dataclass\n",
        "class EvaluationMetrics:\n",
        "    iterations: int = 0\n",
        "    best_iteration: int = 0\n",
        "    avg_conflicts_history: List[int] = []\n",
        "    avg_elite_fitness_history: List[float] = []\n",
        "    time_to_evaluate: List[float] = []\n",
        "    best_timetable: Any = None\n",
        "    best_conflicts: int = 0\n",
        "    best_elite_fitness: float|None = None\n",
        "    time_to_converge: float = 0"
      ]
    },
    {
      "cell_type": "markdown",
      "metadata": {},
      "source": [
        "## 0.3 - Custom Classes"
      ]
    },
    {
      "cell_type": "code",
      "execution_count": 31,
      "metadata": {},
      "outputs": [],
      "source": [
        "class MetricsEvaluator:\n",
        "    def __init__(self, model: str) -> None:\n",
        "        self.model: str = model\n",
        "        self.metrics: EvaluationMetrics = EvaluationMetrics()\n",
        "        self.__start_timer()\n",
        "\n",
        "    def __repr__(self) -> str:\n",
        "        return f\"MetricsEvaluator({self.model})\"\n",
        "    \n",
        "    def __str__(self) -> str:\n",
        "        return f\"MetricsEvaluator of Model: {self.model} with Metrics: {self.metrics}\"\n",
        "    \n",
        "    def __start_timer(self) -> None:\n",
        "        self.start_time = time.time()\n",
        "    \n",
        "    def __stop_timer(self):\n",
        "        self.metrics.time_to_converge = (time.time() - self.start_time) / 60\n",
        "\n",
        "    def start_iteration_timer(self) -> None:\n",
        "        self.iteration_start_time = time.time()\n",
        "\n",
        "    def stop_iteration_timer(self) -> None:\n",
        "        self.metrics.time_to_evaluate.append((time.time() - self.iteration_start_time) / 60)\n",
        "\n",
        "    def update_metrics(self, iteration: int, avg_conflicts: int, avg_elite_fitness: float|None = None) -> None:\n",
        "        self.metrics.iterations = iteration\n",
        "        self.metrics.avg_conflicts_history.append(avg_conflicts)\n",
        "        if avg_elite_fitness is not None:\n",
        "            self.metrics.avg_elite_fitness_history.append(avg_elite_fitness)\n",
        "\n",
        "    def update_best_metric(self, best_iteration: int, best_timetable: Any, best_conflicts: int, best_elite_fitness: float|None = None) -> None:\n",
        "        self.metrics.best_iteration = best_iteration\n",
        "        self.metrics.best_timetable = best_timetable\n",
        "        self.metrics.best_conflicts = best_conflicts\n",
        "        if best_elite_fitness is not None:\n",
        "            self.metrics.best_elite_fitness = best_elite_fitness\n",
        "        self.__stop_timer()\n",
        "\n",
        "    def save_metrics(self, file_path: str) -> None:\n",
        "        with open(file_path, \"w\") as file:\n",
        "            json.dump(self.metrics, file, indent=4)"
      ]
    },
    {
      "cell_type": "markdown",
      "metadata": {},
      "source": [
        "## 0.4 - Custom Functions"
      ]
    },
    {
      "cell_type": "code",
      "execution_count": 32,
      "metadata": {},
      "outputs": [],
      "source": [
        "def load_data(file_path, data_class) -> dict:\n",
        "    with open(file_path, 'r') as file:\n",
        "        data = json.load(file)\n",
        "        for key, value in data.items():\n",
        "            data[key] = data_class(key, value)\n",
        "        return data"
      ]
    },
    {
      "cell_type": "code",
      "execution_count": 33,
      "metadata": {},
      "outputs": [],
      "source": [
        "def calculate_quantity_of_classes(subjects: Dict[str, Subject], classrooms: Dict[str, Classroom]) -> float:\n",
        "    quantity_of_classes: float = 0\n",
        "    for subject in subjects.values():\n",
        "        quantity_of_classes += subject.course_load // 1.5\n",
        "    quantity_of_classes = quantity_of_classes * len(classrooms)\n",
        "    print(f\"Quantity of classes: {quantity_of_classes}\")\n",
        "    return quantity_of_classes"
      ]
    },
    {
      "cell_type": "code",
      "execution_count": 34,
      "metadata": {},
      "outputs": [],
      "source": [
        "def generate_initial_population(population_size: int, subjects: Dict[str, Subject], professors: Dict[str, Professor], classrooms: Dict[str, Classroom], classgroups: Dict[str, ClassGroup]) -> Population:\n",
        "    print(f\"Creating population with {population_size} chromosomes, {len(subjects)} subjects, {len(professors)} professors and {len(classrooms)} classrooms\")\n",
        "    population = Population()\n",
        "    for _ in range(population_size):\n",
        "        chromosome = Chromosome()\n",
        "        for subject, subject_data in subjects.items():\n",
        "            for professor in subject_data.professors:\n",
        "                for classgroup in classgroups.values():\n",
        "                    for _ in range((subject_data.course_load // 36)):\n",
        "                        for classroom, classroom_data in classrooms.items():\n",
        "                            if classgroup.students <= classroom_data.capacity:\n",
        "                                day, time = random.choice(list(set(professors[professor].availability) & set(classroom_data.availability)))\n",
        "                                gene = Gene(professors[professor], subject_data, day, time, classgroup, classroom_data)\n",
        "                                chromosome.add_gene(gene)\n",
        "        population.add_chromosome(chromosome)\n",
        "    #ic(population)\n",
        "    return population"
      ]
    },
    {
      "cell_type": "code",
      "execution_count": 35,
      "metadata": {},
      "outputs": [],
      "source": [
        "def calculate_chromosome_fitness(chromosome: Chromosome) -> int:\n",
        "    conflicts: int = 0\n",
        "\n",
        "    timeslot_count: dict = {}\n",
        "    room_usage: dict = {}\n",
        "\n",
        "    for gene in chromosome.genes:\n",
        "        # Contar uso de horários por professor\n",
        "        if (gene.professor.name, gene.day, gene.time) in timeslot_count:\n",
        "            timeslot_count[(gene.professor.name, gene.day, gene.time)] += 1\n",
        "        else:\n",
        "            timeslot_count[(gene.professor.name, gene.day, gene.time)] = 1\n",
        "\n",
        "        # Contar uso de salas\n",
        "        if (gene.subject.name, gene.day, gene.time) in room_usage:\n",
        "            room_usage[(gene.subject.name, gene.day, gene.time)] += 1\n",
        "        else:\n",
        "            room_usage[(gene.subject.name, gene.day, gene.time)] = 1\n",
        "\n",
        "    for count in timeslot_count.values():\n",
        "        if count > 1:\n",
        "            conflicts += (count - 1)\n",
        "\n",
        "    for count in room_usage.values():\n",
        "        if count > 1:\n",
        "            conflicts += (count - 1)\n",
        "            \n",
        "    for gene in chromosome.genes:\n",
        "        if gene.classgroup.students > gene.classroom.capacity:\n",
        "            conflicts += 1\n",
        "\n",
        "    return conflicts\n",
        "    "
      ]
    },
    {
      "cell_type": "code",
      "execution_count": 36,
      "metadata": {},
      "outputs": [],
      "source": [
        "def calculate_chromosome_elite_fitness(chromosome: Chromosome, conflicts: int|None = None) -> float:\n",
        "    fitness = 1.0\n",
        "    if conflicts is None:\n",
        "        conflicts = calculate_chromosome_fitness(chromosome)\n",
        "\n",
        "    # Reduzir a fitness por conflito\n",
        "    fitness -= conflicts * 0.1\n",
        "    \n",
        "    if fitness < 0:\n",
        "        fitness = 0\n",
        "\n",
        "    return fitness"
      ]
    },
    {
      "cell_type": "code",
      "execution_count": 37,
      "metadata": {},
      "outputs": [],
      "source": [
        "def selection(population: Population) -> Population:\n",
        "    mating_pool: Population = Population()\n",
        "    \n",
        "    population_fitness = [(chromosome, calculate_chromosome_elite_fitness(chromosome)) for chromosome, _ in population.chromosomes]\n",
        "    population_fitness.sort(key=lambda x: x[1], reverse=True)\n",
        "\n",
        "    for i in range(len(population_fitness)):\n",
        "        if random.random() < (i / len(population_fitness)):\n",
        "            mating_pool.add_chromosome(population_fitness[i][0])\n",
        "    return mating_pool"
      ]
    },
    {
      "cell_type": "code",
      "execution_count": 38,
      "metadata": {},
      "outputs": [],
      "source": [
        "def crossover(mating_pool: Population, CROSSOVER_RATE: float) -> Population:\n",
        "    offspring: Population = Population()\n",
        "    for _ in range(len(mating_pool) // 2):\n",
        "        parent1 = random.choice(mating_pool)\n",
        "        parent2 = random.choice(mating_pool)\n",
        "        if random.random() < CROSSOVER_RATE:\n",
        "            point = random.randint(1, len(parent1.genes) - 1)\n",
        "            child1 = Chromosome()\n",
        "            child2 = Chromosome()\n",
        "            child1.genes = parent1.genes[:point] + parent2.genes[point:]\n",
        "            child2.genes = parent2.genes[:point] + parent1.genes[point:]\n",
        "            offspring.extend([child1, child2])\n",
        "        else:\n",
        "            offspring.extend([parent1, parent2])\n",
        "    return offspring"
      ]
    },
    {
      "cell_type": "code",
      "execution_count": 39,
      "metadata": {},
      "outputs": [],
      "source": [
        "def mutate(mating_pool: List[Chromosome], MUTATION_RATE: float, professors: Dict[str, Professor], subjects: Dict[str, Subject], classrooms: Dict[str, Classroom]) -> List[Chromosome]:\n",
        "    for chromosome in mating_pool:\n",
        "        for gene in chromosome.genes:\n",
        "            if random.random() < MUTATION_RATE:\n",
        "                # available_times = list(set(professors[gene.professor.name].time_available) & set(classrooms))\n",
        "                available_times = list(set(professors[gene.professor.name].availability) & set(classrooms[gene.classroom.name].availability))\n",
        "                day, time = random.choice(available_times)\n",
        "                gene.day = day\n",
        "                gene.time = time\n",
        "    return mating_pool"
      ]
    },
    {
      "cell_type": "code",
      "execution_count": 40,
      "metadata": {},
      "outputs": [],
      "source": [
        "def replace_population(population: Population, mating_pool: List[Chromosome]) -> List[Chromosome]:\n",
        "    population_fitness = [(chromosome, calculate_chromosome_elite_fitness(chromosome)) for chromosome in population.chromosomes]\n",
        "    population_fitness.sort(key=lambda x: x[1])\n",
        "\n",
        "    mating_pool_fitness = [(chromosome, calculate_chromosome_elite_fitness(chromosome)) for chromosome in mating_pool]\n",
        "    mating_pool_fitness.sort(key=lambda x: x[1], reverse=True)\n",
        "\n",
        "    for i in range(len(mating_pool_fitness)):\n",
        "        if mating_pool_fitness[i][1] > population_fitness[i][1]:\n",
        "            population_fitness[i] = mating_pool_fitness[i]\n",
        "\n",
        "    return [chromosome for chromosome, fitness in population_fitness]"
      ]
    },
    {
      "cell_type": "markdown",
      "metadata": {},
      "source": [
        "# 1 Model"
      ]
    },
    {
      "cell_type": "markdown",
      "metadata": {},
      "source": [
        "## 1.1 Load Data"
      ]
    },
    {
      "cell_type": "code",
      "execution_count": 41,
      "metadata": {},
      "outputs": [],
      "source": [
        "relationship = {\n",
        "    PROFESSORS_FILE_PATH: Professor,\n",
        "    SUBJECTS_FILE_PATH: Subject,\n",
        "    CLASSROOMS_FILE_PATH: Classroom,\n",
        "    CLASSGROUPS_FILE_PATH: ClassGroup\n",
        "}"
      ]
    },
    {
      "cell_type": "code",
      "execution_count": 42,
      "metadata": {},
      "outputs": [
        {
          "data": {
            "text/plain": [
              "{'Neto': Professor(id=1, name='Neto', time_available={'Segunda': [19, 20, 21], 'Terça': [18, 21], 'Quarta': [18, 19, 20, 21], 'Sexta': [18, 19, 20, 21]}),\n",
              " 'Chiquinho': Professor(id=2, name='Chiquinho', time_available={'Segunda': [18, 19, 20], 'Terça': [18, 19, 20], 'Quarta': [18, 19, 20], 'Quinta': [18, 19, 20], 'Sexta': [18, 19, 20]}),\n",
              " 'Maria': Professor(id=3, name='Maria', time_available={'Segunda': [18, 19, 20], 'Terça': [18, 19, 20], 'Quarta': [18, 19, 20], 'Quinta': [18, 19, 20], 'Sexta': [18, 19, 20]}),\n",
              " 'Joao': Professor(id=4, name='Joao', time_available={'Segunda': [18, 19, 20, 21], 'Terça': [18, 19, 20, 21], 'Quarta': [18, 19, 20, 21], 'Quinta': [18, 19, 20, 21], 'Sexta': [18, 19, 20, 21]})}"
            ]
          },
          "execution_count": 42,
          "metadata": {},
          "output_type": "execute_result"
        }
      ],
      "source": [
        "professors = load_data(PROFESSORS_FILE_PATH, relationship[PROFESSORS_FILE_PATH])\n",
        "professors"
      ]
    },
    {
      "cell_type": "code",
      "execution_count": 43,
      "metadata": {},
      "outputs": [
        {
          "data": {
            "text/plain": [
              "{'Redes': Subject(id=1, name='Redes', professors=['Neto'], course_load=72),\n",
              " 'Logica': Subject(id=2, name='Logica', professors=['Chiquinho'], course_load=36),\n",
              " 'Matematica': Subject(id=3, name='Matematica', professors=['Maria'], course_load=36),\n",
              " 'Fisica': Subject(id=4, name='Fisica', professors=['Joao'], course_load=72)}"
            ]
          },
          "execution_count": 43,
          "metadata": {},
          "output_type": "execute_result"
        }
      ],
      "source": [
        "subjects = load_data(SUBJECTS_FILE_PATH, relationship[SUBJECTS_FILE_PATH])\n",
        "subjects"
      ]
    },
    {
      "cell_type": "code",
      "execution_count": 44,
      "metadata": {},
      "outputs": [
        {
          "data": {
            "text/plain": [
              "{'Sala 101': Classroom(id=1, name='Sala 101', time_available={'Segunda': [18, 19, 20, 21], 'Terça': [18, 19, 20, 21], 'Quarta': [18, 19, 20, 21], 'Quinta': [18, 19, 20, 21], 'Sexta': [18, 19, 20, 21]}, capacity=60),\n",
              " 'Sala 102': Classroom(id=2, name='Sala 102', time_available={'Segunda': [18, 19, 20, 21], 'Terça': [18, 19, 20], 'Quarta': [19, 20, 21], 'Quinta': [18, 19, 20, 21], 'Sexta': [19, 20, 21]}, capacity=30),\n",
              " 'Sala 103': Classroom(id=3, name='Sala 103', time_available={'Segunda': [18, 19, 20, 21], 'Terça': [18, 19, 20, 21], 'Quarta': [18, 19, 20, 21], 'Quinta': [18, 19, 20, 21], 'Sexta': [18, 19, 20, 21]}, capacity=40)}"
            ]
          },
          "execution_count": 44,
          "metadata": {},
          "output_type": "execute_result"
        }
      ],
      "source": [
        "classrooms = load_data(CLASSROOMS_FILE_PATH, relationship[CLASSROOMS_FILE_PATH])\n",
        "classrooms"
      ]
    },
    {
      "cell_type": "code",
      "execution_count": 45,
      "metadata": {},
      "outputs": [
        {
          "data": {
            "text/plain": [
              "{'Alpha': ClassGroup(id=1, name='Alpha', students=20),\n",
              " 'Zeta': ClassGroup(id=2, name='Zeta', students=18),\n",
              " 'Shaw': ClassGroup(id=3, name='Shaw', students=22),\n",
              " 'Kira': ClassGroup(id=4, name='Kira', students=25),\n",
              " 'Vex': ClassGroup(id=5, name='Vex', students=19)}"
            ]
          },
          "execution_count": 45,
          "metadata": {},
          "output_type": "execute_result"
        }
      ],
      "source": [
        "classgroups = load_data(CLASSGROUPS_FILE_PATH, relationship[CLASSGROUPS_FILE_PATH])\n",
        "classgroups"
      ]
    },
    {
      "cell_type": "markdown",
      "metadata": {},
      "source": [
        "## 1.2 Model Definition"
      ]
    },
    {
      "cell_type": "code",
      "execution_count": 46,
      "metadata": {},
      "outputs": [],
      "source": [
        "POPULATION_SIZE = 100\n",
        "MUTATION_RATE = 0.1\n",
        "CROSSOVER_RATE = 0.8\n",
        "GENERATIONS = 1000\n",
        "FITNESS_THRESHOLD = 0.9"
      ]
    },
    {
      "cell_type": "code",
      "execution_count": 47,
      "metadata": {
        "id": "sYnOosV6vCjC"
      },
      "outputs": [
        {
          "name": "stdout",
          "output_type": "stream",
          "text": [
            "Quantity of classes: 432.0\n"
          ]
        }
      ],
      "source": [
        "NUM_CLASSES = calculate_quantity_of_classes(subjects, classrooms)"
      ]
    },
    {
      "cell_type": "code",
      "execution_count": 50,
      "metadata": {},
      "outputs": [],
      "source": [
        "def genetic_algorithm(population_size: int, mutation_rate: float, crossover_rate: float, generations: int, fitness_threshold: float, subjects: Dict[str, Subject], professors: Dict[str, Professor], classrooms: Dict[str, Classroom], classgroups: Dict[str, ClassGroup]) -> Tuple[Chromosome, MetricsEvaluator]:\n",
        "\n",
        "    metrics_evaluator = MetricsEvaluator(\"Genetic Algorithm\")\n",
        "    metrics_evaluator.start_timer()\n",
        "    population = generate_initial_population(population_size, subjects, professors, classrooms, classgroups)\n",
        "    best_chromosome = None\n",
        "    first_gereration = True\n",
        "    last_good_elite_fitness = 0\n",
        "    last_good_chromosome: Chromosome|None = None\n",
        "    last_good_generation = 0\n",
        "    last_good_conflicts = 0\n",
        "    for generation in range(0, generations):\n",
        "        print(f\"Evaluating generation: {generation}\")\n",
        "        metrics_evaluator.start_iteration_timer()\n",
        "        if not first_gereration:\n",
        "            mating_pool = selection(population)\n",
        "            mating_pool = crossover(mating_pool, crossover_rate)\n",
        "            mating_pool = mutate(mating_pool, mutation_rate, professors, subjects, classrooms)\n",
        "            population = replace_population(population, mating_pool)\n",
        "    \n",
        "        # Calcula a \"nota\" (fitness) de cada conjunto de horários\n",
        "        population_conflicts = []\n",
        "        population_elite_fitness = []\n",
        "        #print(population)\n",
        "        for chromosome in population.chromosomes:\n",
        "            conflicts = calculate_chromosome_fitness(chromosome)\n",
        "            population_conflicts.append(conflicts)\n",
        "            elite_fitness = calculate_chromosome_elite_fitness(chromosome, conflicts)\n",
        "            population_elite_fitness.append(elite_fitness)\n",
        "        print(f\"Population conflicts: {population_conflicts}\")\n",
        "        print(f\"Population elite fitness: {population_elite_fitness}\")\n",
        "\n",
        "        # Encontra a melhor \"nota\" atual\n",
        "        conflicts_elite_fitnesss = min(population_conflicts)\n",
        "        max_elite_fitness = max(population_elite_fitness)\n",
        "        print(f\"Generation: {generation}, Conflicts: {conflicts_elite_fitnesss}, Elite Fitness: {max_elite_fitness}\")\n",
        "\n",
        "        if max_elite_fitness > last_good_elite_fitness:\n",
        "            print(f\"New best elite fitness found in generation {generation}\")\n",
        "            last_good_elite_fitness = max_elite_fitness\n",
        "            last_good_chromosome = population.chromosomes[population_elite_fitness.index(max_elite_fitness)]\n",
        "            last_good_generation = generation\n",
        "            last_good_conflicts = conflicts_elite_fitnesss\n",
        "\n",
        "            if max_elite_fitness >= fitness_threshold:\n",
        "                print(f\"Fitness threshold reached in generation {generation}\")\n",
        "                best_elite_fitness = max_elite_fitness\n",
        "                best_chromosome = last_good_chromosome\n",
        "                best_generation = last_good_generation\n",
        "                best_conflicts = last_good_conflicts\n",
        "        \n",
        "        avg_elite_fitness = sum(population_elite_fitness) / len(population_elite_fitness)\n",
        "        avg_conflicts = sum(population_conflicts) / len(population_conflicts)\n",
        "        metrics_evaluator.update_metrics(generation, avg_conflicts, avg_elite_fitness)\n",
        "        metrics_evaluator.stop_iteration_timer()\n",
        "        if first_gereration:\n",
        "            first_gereration = False\n",
        "\n",
        "    if best_chromosome is None:\n",
        "        best_elite_fitness = last_good_elite_fitness\n",
        "        best_chromosome = last_good_chromosome\n",
        "        best_generation = last_good_generation\n",
        "        best_conflicts = last_good_conflicts\n",
        "\n",
        "    metrics_evaluator.update_best_metric(best_generation, best_chromosome, best_conflicts, best_elite_fitness)\n",
        "    \n",
        "    metrics_evaluator.stop_timer()\n",
        "    print(f\"Best Generation: {best_generation}, Best chromosome: {best_chromosome}, Conflicts: {best_conflicts}, Elite Fitness: {best_elite_fitness}\")\n",
        "    return best_chromosome, metrics_evaluator"
      ]
    },
    {
      "cell_type": "markdown",
      "metadata": {},
      "source": [
        "## 2 Experiment"
      ]
    },
    {
      "cell_type": "code",
      "execution_count": 51,
      "metadata": {
        "colab": {
          "base_uri": "https://localhost:8080/"
        },
        "id": "_SyFOMSavOrE",
        "outputId": "910595e9-9175-4c99-f0c2-75f019f25cea"
      },
      "outputs": [
        {
          "name": "stdout",
          "output_type": "stream",
          "text": [
            "Creating population with 100 chromosomes, 4 subjects, 4 professors and 3 classrooms\n",
            "Evaluating generation: 0\n",
            "Population conflicts: [90, 84, 88, 86, 88, 80, 88, 82, 78, 80, 82, 84, 86, 94, 82, 88, 86, 92, 86, 94, 84, 80, 82, 88, 80, 94, 86, 84, 88, 90, 82, 84, 88, 92, 76, 90, 82, 88, 86, 92, 96, 92, 74, 78, 88, 82, 90, 90, 96, 78, 80, 84, 86, 92, 76, 84, 86, 90, 84, 86, 88, 96, 86, 88, 74, 90, 80, 86, 86, 90, 86, 90, 84, 84, 90, 88, 94, 86, 86, 92, 80, 90, 90, 88, 82, 84, 88, 92, 92, 84, 94, 84, 92, 86, 86, 80, 92, 86, 86, 88]\n",
            "Population elite fitness: [0, 0, 0, 0, 0, 0, 0, 0, 0, 0, 0, 0, 0, 0, 0, 0, 0, 0, 0, 0, 0, 0, 0, 0, 0, 0, 0, 0, 0, 0, 0, 0, 0, 0, 0, 0, 0, 0, 0, 0, 0, 0, 0, 0, 0, 0, 0, 0, 0, 0, 0, 0, 0, 0, 0, 0, 0, 0, 0, 0, 0, 0, 0, 0, 0, 0, 0, 0, 0, 0, 0, 0, 0, 0, 0, 0, 0, 0, 0, 0, 0, 0, 0, 0, 0, 0, 0, 0, 0, 0, 0, 0, 0, 0, 0, 0, 0, 0, 0, 0]\n",
            "Generation: 0, Conflicts: 74, Elite Fitness: 0\n",
            "Evaluating generation: 1\n"
          ]
        },
        {
          "ename": "AttributeError",
          "evalue": "'list' object has no attribute 'chromosomes'",
          "output_type": "error",
          "traceback": [
            "\u001b[0;31m---------------------------------------------------------------------------\u001b[0m",
            "\u001b[0;31mAttributeError\u001b[0m                            Traceback (most recent call last)",
            "Cell \u001b[0;32mIn[51], line 1\u001b[0m\n\u001b[0;32m----> 1\u001b[0m best_timetable, metrics \u001b[38;5;241m=\u001b[39m \u001b[43mgenetic_algorithm\u001b[49m\u001b[43m(\u001b[49m\n\u001b[1;32m      2\u001b[0m \u001b[43m    \u001b[49m\u001b[43mPOPULATION_SIZE\u001b[49m\u001b[43m,\u001b[49m\n\u001b[1;32m      3\u001b[0m \u001b[43m    \u001b[49m\u001b[43mMUTATION_RATE\u001b[49m\u001b[43m,\u001b[49m\n\u001b[1;32m      4\u001b[0m \u001b[43m    \u001b[49m\u001b[43mCROSSOVER_RATE\u001b[49m\u001b[43m,\u001b[49m\n\u001b[1;32m      5\u001b[0m \u001b[43m    \u001b[49m\u001b[43mGENERATIONS\u001b[49m\u001b[43m,\u001b[49m\n\u001b[1;32m      6\u001b[0m \u001b[43m    \u001b[49m\u001b[43mFITNESS_THRESHOLD\u001b[49m\u001b[43m,\u001b[49m\n\u001b[1;32m      7\u001b[0m \u001b[43m    \u001b[49m\u001b[43msubjects\u001b[49m\u001b[43m,\u001b[49m\n\u001b[1;32m      8\u001b[0m \u001b[43m    \u001b[49m\u001b[43mprofessors\u001b[49m\u001b[43m,\u001b[49m\n\u001b[1;32m      9\u001b[0m \u001b[43m    \u001b[49m\u001b[43mclassrooms\u001b[49m\u001b[43m,\u001b[49m\n\u001b[1;32m     10\u001b[0m \u001b[43m    \u001b[49m\u001b[43mclassgroups\u001b[49m\n\u001b[1;32m     11\u001b[0m \u001b[43m)\u001b[49m\n",
            "Cell \u001b[0;32mIn[50], line 25\u001b[0m, in \u001b[0;36mgenetic_algorithm\u001b[0;34m(population_size, mutation_rate, crossover_rate, generations, fitness_threshold, subjects, professors, classrooms, classgroups)\u001b[0m\n\u001b[1;32m     23\u001b[0m population_elite_fitness \u001b[38;5;241m=\u001b[39m []\n\u001b[1;32m     24\u001b[0m \u001b[38;5;66;03m#print(population)\u001b[39;00m\n\u001b[0;32m---> 25\u001b[0m \u001b[38;5;28;01mfor\u001b[39;00m chromosome \u001b[38;5;129;01min\u001b[39;00m \u001b[43mpopulation\u001b[49m\u001b[38;5;241;43m.\u001b[39;49m\u001b[43mchromosomes\u001b[49m:\n\u001b[1;32m     26\u001b[0m     conflicts \u001b[38;5;241m=\u001b[39m calculate_chromosome_fitness(chromosome)\n\u001b[1;32m     27\u001b[0m     population_conflicts\u001b[38;5;241m.\u001b[39mappend(conflicts)\n",
            "\u001b[0;31mAttributeError\u001b[0m: 'list' object has no attribute 'chromosomes'"
          ]
        }
      ],
      "source": [
        "best_timetable, metrics = genetic_algorithm(\n",
        "    POPULATION_SIZE,\n",
        "    MUTATION_RATE,\n",
        "    CROSSOVER_RATE,\n",
        "    GENERATIONS,\n",
        "    FITNESS_THRESHOLD,\n",
        "    subjects,\n",
        "    professors,\n",
        "    classrooms,\n",
        "    classgroups\n",
        ")"
      ]
    },
    {
      "cell_type": "code",
      "execution_count": 27,
      "metadata": {},
      "outputs": [
        {
          "name": "stdout",
          "output_type": "stream",
          "text": [
            "MetricsEvaluator of Model: Genetic Algorithm with Metrics: {'time_to_converge': 0.05346132119496663, 'best_conflicts': 0, 'best_elite_fitness': 0, 'best_timetable': None, 'iterations': 999, 'best_iteration': 0, 'avg_conflicts_history': [87.22, 87.22, 87.22, 87.22, 87.22, 87.22, 87.22, 87.22, 87.22, 87.22, 87.22, 87.22, 87.22, 87.22, 87.22, 87.22, 87.22, 87.22, 87.22, 87.22, 87.22, 87.22, 87.22, 87.22, 87.22, 87.22, 87.22, 87.22, 87.22, 87.22, 87.22, 87.22, 87.22, 87.22, 87.22, 87.22, 87.22, 87.22, 87.22, 87.22, 87.22, 87.22, 87.22, 87.22, 87.22, 87.22, 87.22, 87.22, 87.22, 87.22, 87.22, 87.22, 87.22, 87.22, 87.22, 87.22, 87.22, 87.22, 87.22, 87.22, 87.22, 87.22, 87.22, 87.22, 87.22, 87.22, 87.22, 87.22, 87.22, 87.22, 87.22, 87.22, 87.22, 87.22, 87.22, 87.22, 87.22, 87.22, 87.22, 87.22, 87.22, 87.22, 87.22, 87.22, 87.22, 87.22, 87.22, 87.22, 87.22, 87.22, 87.22, 87.22, 87.22, 87.22, 87.22, 87.22, 87.22, 87.22, 87.22, 87.22, 87.22, 87.22, 87.22, 87.22, 87.22, 87.22, 87.22, 87.22, 87.22, 87.22, 87.22, 87.22, 87.22, 87.22, 87.22, 87.22, 87.22, 87.22, 87.22, 87.22, 87.22, 87.22, 87.22, 87.22, 87.22, 87.22, 87.22, 87.22, 87.22, 87.22, 87.22, 87.22, 87.22, 87.22, 87.22, 87.22, 87.22, 87.22, 87.22, 87.22, 87.22, 87.22, 87.22, 87.22, 87.22, 87.22, 87.22, 87.22, 87.22, 87.22, 87.22, 87.22, 87.22, 87.22, 87.22, 87.22, 87.22, 87.22, 87.22, 87.22, 87.22, 87.22, 87.22, 87.22, 87.22, 87.22, 87.22, 87.22, 87.22, 87.22, 87.22, 87.22, 87.22, 87.22, 87.22, 87.22, 87.22, 87.22, 87.22, 87.22, 87.22, 87.22, 87.22, 87.22, 87.22, 87.22, 87.22, 87.22, 87.22, 87.22, 87.22, 87.22, 87.22, 87.22, 87.22, 87.22, 87.22, 87.22, 87.22, 87.22, 87.22, 87.22, 87.22, 87.22, 87.22, 87.22, 87.22, 87.22, 87.22, 87.22, 87.22, 87.22, 87.22, 87.22, 87.22, 87.22, 87.22, 87.22, 87.22, 87.22, 87.22, 87.22, 87.22, 87.22, 87.22, 87.22, 87.22, 87.22, 87.22, 87.22, 87.22, 87.22, 87.22, 87.22, 87.22, 87.22, 87.22, 87.22, 87.22, 87.22, 87.22, 87.22, 87.22, 87.22, 87.22, 87.22, 87.22, 87.22, 87.22, 87.22, 87.22, 87.22, 87.22, 87.22, 87.22, 87.22, 87.22, 87.22, 87.22, 87.22, 87.22, 87.22, 87.22, 87.22, 87.22, 87.22, 87.22, 87.22, 87.22, 87.22, 87.22, 87.22, 87.22, 87.22, 87.22, 87.22, 87.22, 87.22, 87.22, 87.22, 87.22, 87.22, 87.22, 87.22, 87.22, 87.22, 87.22, 87.22, 87.22, 87.22, 87.22, 87.22, 87.22, 87.22, 87.22, 87.22, 87.22, 87.22, 87.22, 87.22, 87.22, 87.22, 87.22, 87.22, 87.22, 87.22, 87.22, 87.22, 87.22, 87.22, 87.22, 87.22, 87.22, 87.22, 87.22, 87.22, 87.22, 87.22, 87.22, 87.22, 87.22, 87.22, 87.22, 87.22, 87.22, 87.22, 87.22, 87.22, 87.22, 87.22, 87.22, 87.22, 87.22, 87.22, 87.22, 87.22, 87.22, 87.22, 87.22, 87.22, 87.22, 87.22, 87.22, 87.22, 87.22, 87.22, 87.22, 87.22, 87.22, 87.22, 87.22, 87.22, 87.22, 87.22, 87.22, 87.22, 87.22, 87.22, 87.22, 87.22, 87.22, 87.22, 87.22, 87.22, 87.22, 87.22, 87.22, 87.22, 87.22, 87.22, 87.22, 87.22, 87.22, 87.22, 87.22, 87.22, 87.22, 87.22, 87.22, 87.22, 87.22, 87.22, 87.22, 87.22, 87.22, 87.22, 87.22, 87.22, 87.22, 87.22, 87.22, 87.22, 87.22, 87.22, 87.22, 87.22, 87.22, 87.22, 87.22, 87.22, 87.22, 87.22, 87.22, 87.22, 87.22, 87.22, 87.22, 87.22, 87.22, 87.22, 87.22, 87.22, 87.22, 87.22, 87.22, 87.22, 87.22, 87.22, 87.22, 87.22, 87.22, 87.22, 87.22, 87.22, 87.22, 87.22, 87.22, 87.22, 87.22, 87.22, 87.22, 87.22, 87.22, 87.22, 87.22, 87.22, 87.22, 87.22, 87.22, 87.22, 87.22, 87.22, 87.22, 87.22, 87.22, 87.22, 87.22, 87.22, 87.22, 87.22, 87.22, 87.22, 87.22, 87.22, 87.22, 87.22, 87.22, 87.22, 87.22, 87.22, 87.22, 87.22, 87.22, 87.22, 87.22, 87.22, 87.22, 87.22, 87.22, 87.22, 87.22, 87.22, 87.22, 87.22, 87.22, 87.22, 87.22, 87.22, 87.22, 87.22, 87.22, 87.22, 87.22, 87.22, 87.22, 87.22, 87.22, 87.22, 87.22, 87.22, 87.22, 87.22, 87.22, 87.22, 87.22, 87.22, 87.22, 87.22, 87.22, 87.22, 87.22, 87.22, 87.22, 87.22, 87.22, 87.22, 87.22, 87.22, 87.22, 87.22, 87.22, 87.22, 87.22, 87.22, 87.22, 87.22, 87.22, 87.22, 87.22, 87.22, 87.22, 87.22, 87.22, 87.22, 87.22, 87.22, 87.22, 87.22, 87.22, 87.22, 87.22, 87.22, 87.22, 87.22, 87.22, 87.22, 87.22, 87.22, 87.22, 87.22, 87.22, 87.22, 87.22, 87.22, 87.22, 87.22, 87.22, 87.22, 87.22, 87.22, 87.22, 87.22, 87.22, 87.22, 87.22, 87.22, 87.22, 87.22, 87.22, 87.22, 87.22, 87.22, 87.22, 87.22, 87.22, 87.22, 87.22, 87.22, 87.22, 87.22, 87.22, 87.22, 87.22, 87.22, 87.22, 87.22, 87.22, 87.22, 87.22, 87.22, 87.22, 87.22, 87.22, 87.22, 87.22, 87.22, 87.22, 87.22, 87.22, 87.22, 87.22, 87.22, 87.22, 87.22, 87.22, 87.22, 87.22, 87.22, 87.22, 87.22, 87.22, 87.22, 87.22, 87.22, 87.22, 87.22, 87.22, 87.22, 87.22, 87.22, 87.22, 87.22, 87.22, 87.22, 87.22, 87.22, 87.22, 87.22, 87.22, 87.22, 87.22, 87.22, 87.22, 87.22, 87.22, 87.22, 87.22, 87.22, 87.22, 87.22, 87.22, 87.22, 87.22, 87.22, 87.22, 87.22, 87.22, 87.22, 87.22, 87.22, 87.22, 87.22, 87.22, 87.22, 87.22, 87.22, 87.22, 87.22, 87.22, 87.22, 87.22, 87.22, 87.22, 87.22, 87.22, 87.22, 87.22, 87.22, 87.22, 87.22, 87.22, 87.22, 87.22, 87.22, 87.22, 87.22, 87.22, 87.22, 87.22, 87.22, 87.22, 87.22, 87.22, 87.22, 87.22, 87.22, 87.22, 87.22, 87.22, 87.22, 87.22, 87.22, 87.22, 87.22, 87.22, 87.22, 87.22, 87.22, 87.22, 87.22, 87.22, 87.22, 87.22, 87.22, 87.22, 87.22, 87.22, 87.22, 87.22, 87.22, 87.22, 87.22, 87.22, 87.22, 87.22, 87.22, 87.22, 87.22, 87.22, 87.22, 87.22, 87.22, 87.22, 87.22, 87.22, 87.22, 87.22, 87.22, 87.22, 87.22, 87.22, 87.22, 87.22, 87.22, 87.22, 87.22, 87.22, 87.22, 87.22, 87.22, 87.22, 87.22, 87.22, 87.22, 87.22, 87.22, 87.22, 87.22, 87.22, 87.22, 87.22, 87.22, 87.22, 87.22, 87.22, 87.22, 87.22, 87.22, 87.22, 87.22, 87.22, 87.22, 87.22, 87.22, 87.22, 87.22, 87.22, 87.22, 87.22, 87.22, 87.22, 87.22, 87.22, 87.22, 87.22, 87.22, 87.22, 87.22, 87.22, 87.22, 87.22, 87.22, 87.22, 87.22, 87.22, 87.22, 87.22, 87.22, 87.22, 87.22, 87.22, 87.22, 87.22, 87.22, 87.22, 87.22, 87.22, 87.22, 87.22, 87.22, 87.22, 87.22, 87.22, 87.22, 87.22, 87.22, 87.22, 87.22, 87.22, 87.22, 87.22, 87.22, 87.22, 87.22, 87.22, 87.22, 87.22, 87.22, 87.22, 87.22, 87.22, 87.22, 87.22, 87.22, 87.22, 87.22, 87.22, 87.22, 87.22, 87.22, 87.22, 87.22, 87.22, 87.22, 87.22, 87.22, 87.22, 87.22, 87.22, 87.22, 87.22, 87.22, 87.22, 87.22, 87.22, 87.22, 87.22, 87.22, 87.22, 87.22, 87.22, 87.22, 87.22, 87.22, 87.22, 87.22, 87.22, 87.22, 87.22, 87.22, 87.22, 87.22, 87.22, 87.22, 87.22, 87.22, 87.22, 87.22, 87.22, 87.22, 87.22, 87.22, 87.22, 87.22, 87.22, 87.22, 87.22, 87.22, 87.22, 87.22, 87.22, 87.22, 87.22, 87.22, 87.22, 87.22, 87.22, 87.22, 87.22, 87.22, 87.22, 87.22, 87.22, 87.22, 87.22, 87.22, 87.22, 87.22, 87.22, 87.22, 87.22, 87.22, 87.22, 87.22, 87.22, 87.22, 87.22, 87.22, 87.22, 87.22, 87.22, 87.22, 87.22, 87.22, 87.22, 87.22, 87.22, 87.22, 87.22, 87.22, 87.22, 87.22, 87.22, 87.22, 87.22, 87.22, 87.22, 87.22, 87.22, 87.22, 87.22, 87.22, 87.22, 87.22, 87.22, 87.22, 87.22, 87.22, 87.22, 87.22, 87.22, 87.22, 87.22, 87.22, 87.22, 87.22, 87.22, 87.22, 87.22, 87.22, 87.22, 87.22, 87.22, 87.22, 87.22, 87.22, 87.22, 87.22, 87.22, 87.22, 87.22, 87.22, 87.22, 87.22, 87.22, 87.22, 87.22, 87.22, 87.22, 87.22, 87.22, 87.22, 87.22, 87.22, 87.22, 87.22, 87.22, 87.22, 87.22, 87.22, 87.22, 87.22, 87.22, 87.22, 87.22, 87.22, 87.22, 87.22, 87.22, 87.22, 87.22, 87.22, 87.22, 87.22, 87.22, 87.22, 87.22, 87.22, 87.22, 87.22, 87.22, 87.22, 87.22, 87.22, 87.22, 87.22, 87.22, 87.22, 87.22, 87.22], 'avg_elite_fitness_history': [0.0, 0.0, 0.0, 0.0, 0.0, 0.0, 0.0, 0.0, 0.0, 0.0, 0.0, 0.0, 0.0, 0.0, 0.0, 0.0, 0.0, 0.0, 0.0, 0.0, 0.0, 0.0, 0.0, 0.0, 0.0, 0.0, 0.0, 0.0, 0.0, 0.0, 0.0, 0.0, 0.0, 0.0, 0.0, 0.0, 0.0, 0.0, 0.0, 0.0, 0.0, 0.0, 0.0, 0.0, 0.0, 0.0, 0.0, 0.0, 0.0, 0.0, 0.0, 0.0, 0.0, 0.0, 0.0, 0.0, 0.0, 0.0, 0.0, 0.0, 0.0, 0.0, 0.0, 0.0, 0.0, 0.0, 0.0, 0.0, 0.0, 0.0, 0.0, 0.0, 0.0, 0.0, 0.0, 0.0, 0.0, 0.0, 0.0, 0.0, 0.0, 0.0, 0.0, 0.0, 0.0, 0.0, 0.0, 0.0, 0.0, 0.0, 0.0, 0.0, 0.0, 0.0, 0.0, 0.0, 0.0, 0.0, 0.0, 0.0, 0.0, 0.0, 0.0, 0.0, 0.0, 0.0, 0.0, 0.0, 0.0, 0.0, 0.0, 0.0, 0.0, 0.0, 0.0, 0.0, 0.0, 0.0, 0.0, 0.0, 0.0, 0.0, 0.0, 0.0, 0.0, 0.0, 0.0, 0.0, 0.0, 0.0, 0.0, 0.0, 0.0, 0.0, 0.0, 0.0, 0.0, 0.0, 0.0, 0.0, 0.0, 0.0, 0.0, 0.0, 0.0, 0.0, 0.0, 0.0, 0.0, 0.0, 0.0, 0.0, 0.0, 0.0, 0.0, 0.0, 0.0, 0.0, 0.0, 0.0, 0.0, 0.0, 0.0, 0.0, 0.0, 0.0, 0.0, 0.0, 0.0, 0.0, 0.0, 0.0, 0.0, 0.0, 0.0, 0.0, 0.0, 0.0, 0.0, 0.0, 0.0, 0.0, 0.0, 0.0, 0.0, 0.0, 0.0, 0.0, 0.0, 0.0, 0.0, 0.0, 0.0, 0.0, 0.0, 0.0, 0.0, 0.0, 0.0, 0.0, 0.0, 0.0, 0.0, 0.0, 0.0, 0.0, 0.0, 0.0, 0.0, 0.0, 0.0, 0.0, 0.0, 0.0, 0.0, 0.0, 0.0, 0.0, 0.0, 0.0, 0.0, 0.0, 0.0, 0.0, 0.0, 0.0, 0.0, 0.0, 0.0, 0.0, 0.0, 0.0, 0.0, 0.0, 0.0, 0.0, 0.0, 0.0, 0.0, 0.0, 0.0, 0.0, 0.0, 0.0, 0.0, 0.0, 0.0, 0.0, 0.0, 0.0, 0.0, 0.0, 0.0, 0.0, 0.0, 0.0, 0.0, 0.0, 0.0, 0.0, 0.0, 0.0, 0.0, 0.0, 0.0, 0.0, 0.0, 0.0, 0.0, 0.0, 0.0, 0.0, 0.0, 0.0, 0.0, 0.0, 0.0, 0.0, 0.0, 0.0, 0.0, 0.0, 0.0, 0.0, 0.0, 0.0, 0.0, 0.0, 0.0, 0.0, 0.0, 0.0, 0.0, 0.0, 0.0, 0.0, 0.0, 0.0, 0.0, 0.0, 0.0, 0.0, 0.0, 0.0, 0.0, 0.0, 0.0, 0.0, 0.0, 0.0, 0.0, 0.0, 0.0, 0.0, 0.0, 0.0, 0.0, 0.0, 0.0, 0.0, 0.0, 0.0, 0.0, 0.0, 0.0, 0.0, 0.0, 0.0, 0.0, 0.0, 0.0, 0.0, 0.0, 0.0, 0.0, 0.0, 0.0, 0.0, 0.0, 0.0, 0.0, 0.0, 0.0, 0.0, 0.0, 0.0, 0.0, 0.0, 0.0, 0.0, 0.0, 0.0, 0.0, 0.0, 0.0, 0.0, 0.0, 0.0, 0.0, 0.0, 0.0, 0.0, 0.0, 0.0, 0.0, 0.0, 0.0, 0.0, 0.0, 0.0, 0.0, 0.0, 0.0, 0.0, 0.0, 0.0, 0.0, 0.0, 0.0, 0.0, 0.0, 0.0, 0.0, 0.0, 0.0, 0.0, 0.0, 0.0, 0.0, 0.0, 0.0, 0.0, 0.0, 0.0, 0.0, 0.0, 0.0, 0.0, 0.0, 0.0, 0.0, 0.0, 0.0, 0.0, 0.0, 0.0, 0.0, 0.0, 0.0, 0.0, 0.0, 0.0, 0.0, 0.0, 0.0, 0.0, 0.0, 0.0, 0.0, 0.0, 0.0, 0.0, 0.0, 0.0, 0.0, 0.0, 0.0, 0.0, 0.0, 0.0, 0.0, 0.0, 0.0, 0.0, 0.0, 0.0, 0.0, 0.0, 0.0, 0.0, 0.0, 0.0, 0.0, 0.0, 0.0, 0.0, 0.0, 0.0, 0.0, 0.0, 0.0, 0.0, 0.0, 0.0, 0.0, 0.0, 0.0, 0.0, 0.0, 0.0, 0.0, 0.0, 0.0, 0.0, 0.0, 0.0, 0.0, 0.0, 0.0, 0.0, 0.0, 0.0, 0.0, 0.0, 0.0, 0.0, 0.0, 0.0, 0.0, 0.0, 0.0, 0.0, 0.0, 0.0, 0.0, 0.0, 0.0, 0.0, 0.0, 0.0, 0.0, 0.0, 0.0, 0.0, 0.0, 0.0, 0.0, 0.0, 0.0, 0.0, 0.0, 0.0, 0.0, 0.0, 0.0, 0.0, 0.0, 0.0, 0.0, 0.0, 0.0, 0.0, 0.0, 0.0, 0.0, 0.0, 0.0, 0.0, 0.0, 0.0, 0.0, 0.0, 0.0, 0.0, 0.0, 0.0, 0.0, 0.0, 0.0, 0.0, 0.0, 0.0, 0.0, 0.0, 0.0, 0.0, 0.0, 0.0, 0.0, 0.0, 0.0, 0.0, 0.0, 0.0, 0.0, 0.0, 0.0, 0.0, 0.0, 0.0, 0.0, 0.0, 0.0, 0.0, 0.0, 0.0, 0.0, 0.0, 0.0, 0.0, 0.0, 0.0, 0.0, 0.0, 0.0, 0.0, 0.0, 0.0, 0.0, 0.0, 0.0, 0.0, 0.0, 0.0, 0.0, 0.0, 0.0, 0.0, 0.0, 0.0, 0.0, 0.0, 0.0, 0.0, 0.0, 0.0, 0.0, 0.0, 0.0, 0.0, 0.0, 0.0, 0.0, 0.0, 0.0, 0.0, 0.0, 0.0, 0.0, 0.0, 0.0, 0.0, 0.0, 0.0, 0.0, 0.0, 0.0, 0.0, 0.0, 0.0, 0.0, 0.0, 0.0, 0.0, 0.0, 0.0, 0.0, 0.0, 0.0, 0.0, 0.0, 0.0, 0.0, 0.0, 0.0, 0.0, 0.0, 0.0, 0.0, 0.0, 0.0, 0.0, 0.0, 0.0, 0.0, 0.0, 0.0, 0.0, 0.0, 0.0, 0.0, 0.0, 0.0, 0.0, 0.0, 0.0, 0.0, 0.0, 0.0, 0.0, 0.0, 0.0, 0.0, 0.0, 0.0, 0.0, 0.0, 0.0, 0.0, 0.0, 0.0, 0.0, 0.0, 0.0, 0.0, 0.0, 0.0, 0.0, 0.0, 0.0, 0.0, 0.0, 0.0, 0.0, 0.0, 0.0, 0.0, 0.0, 0.0, 0.0, 0.0, 0.0, 0.0, 0.0, 0.0, 0.0, 0.0, 0.0, 0.0, 0.0, 0.0, 0.0, 0.0, 0.0, 0.0, 0.0, 0.0, 0.0, 0.0, 0.0, 0.0, 0.0, 0.0, 0.0, 0.0, 0.0, 0.0, 0.0, 0.0, 0.0, 0.0, 0.0, 0.0, 0.0, 0.0, 0.0, 0.0, 0.0, 0.0, 0.0, 0.0, 0.0, 0.0, 0.0, 0.0, 0.0, 0.0, 0.0, 0.0, 0.0, 0.0, 0.0, 0.0, 0.0, 0.0, 0.0, 0.0, 0.0, 0.0, 0.0, 0.0, 0.0, 0.0, 0.0, 0.0, 0.0, 0.0, 0.0, 0.0, 0.0, 0.0, 0.0, 0.0, 0.0, 0.0, 0.0, 0.0, 0.0, 0.0, 0.0, 0.0, 0.0, 0.0, 0.0, 0.0, 0.0, 0.0, 0.0, 0.0, 0.0, 0.0, 0.0, 0.0, 0.0, 0.0, 0.0, 0.0, 0.0, 0.0, 0.0, 0.0, 0.0, 0.0, 0.0, 0.0, 0.0, 0.0, 0.0, 0.0, 0.0, 0.0, 0.0, 0.0, 0.0, 0.0, 0.0, 0.0, 0.0, 0.0, 0.0, 0.0, 0.0, 0.0, 0.0, 0.0, 0.0, 0.0, 0.0, 0.0, 0.0, 0.0, 0.0, 0.0, 0.0, 0.0, 0.0, 0.0, 0.0, 0.0, 0.0, 0.0, 0.0, 0.0, 0.0, 0.0, 0.0, 0.0, 0.0, 0.0, 0.0, 0.0, 0.0, 0.0, 0.0, 0.0, 0.0, 0.0, 0.0, 0.0, 0.0, 0.0, 0.0, 0.0, 0.0, 0.0, 0.0, 0.0, 0.0, 0.0, 0.0, 0.0, 0.0, 0.0, 0.0, 0.0, 0.0, 0.0, 0.0, 0.0, 0.0, 0.0, 0.0, 0.0, 0.0, 0.0, 0.0, 0.0, 0.0, 0.0, 0.0, 0.0, 0.0, 0.0, 0.0, 0.0, 0.0, 0.0, 0.0, 0.0, 0.0, 0.0, 0.0, 0.0, 0.0, 0.0, 0.0, 0.0, 0.0, 0.0, 0.0, 0.0, 0.0, 0.0, 0.0, 0.0, 0.0, 0.0, 0.0, 0.0, 0.0, 0.0, 0.0, 0.0, 0.0, 0.0, 0.0, 0.0, 0.0, 0.0, 0.0, 0.0, 0.0, 0.0, 0.0, 0.0, 0.0, 0.0, 0.0, 0.0, 0.0, 0.0, 0.0, 0.0, 0.0, 0.0, 0.0, 0.0, 0.0, 0.0, 0.0, 0.0, 0.0, 0.0, 0.0, 0.0, 0.0, 0.0, 0.0, 0.0, 0.0, 0.0, 0.0, 0.0, 0.0, 0.0, 0.0, 0.0, 0.0, 0.0, 0.0, 0.0, 0.0, 0.0, 0.0, 0.0, 0.0, 0.0, 0.0, 0.0, 0.0, 0.0, 0.0, 0.0, 0.0, 0.0, 0.0, 0.0, 0.0, 0.0, 0.0, 0.0, 0.0, 0.0, 0.0, 0.0, 0.0, 0.0, 0.0, 0.0, 0.0, 0.0, 0.0, 0.0, 0.0, 0.0, 0.0, 0.0, 0.0, 0.0, 0.0, 0.0, 0.0, 0.0, 0.0, 0.0, 0.0, 0.0, 0.0, 0.0, 0.0], 'time_to_evaluate': [8.376042048136393e-05, 8.066892623901368e-05, 8.748769760131836e-05, 8.549690246582032e-05, 8.709033330281576e-05, 8.633534113566081e-05, 8.09947649637858e-05, 8.118947347005209e-05, 8.066097895304362e-05, 8.112192153930664e-05, 5.362431208292643e-05, 4.61737314860026e-05, 4.537502924601237e-05, 4.4735272725423175e-05, 4.5363108317057295e-05, 4.959503809611003e-05, 5.022287368774414e-05, 5.156993865966797e-05, 5.2475929260253905e-05, 5.230108896891276e-05, 5.2364667256673175e-05, 5.2758057912190755e-05, 5.319118499755859e-05, 5.344549814860026e-05, 5.2539507548014325e-05, 5.1915645599365234e-05, 5.324681599934896e-05, 5.324681599934896e-05, 5.2976608276367185e-05, 5.238056182861328e-05, 5.1756699879964195e-05, 5.145470301310221e-05, 5.199909210205078e-05, 5.2642822265625e-05, 5.3036212921142575e-05, 5.2658716837565106e-05, 5.244811375935872e-05, 5.1752726236979166e-05, 5.173285802205403e-05, 6.46193822224935e-05, 5.254348119099935e-05, 5.542437235514323e-05, 5.238453547159831e-05, 5.2082538604736325e-05, 5.3151448567708334e-05, 5.333820978800456e-05, 5.34971555074056e-05, 5.341768264770508e-05, 5.324284235636393e-05, 5.3811073303222654e-05, 5.340178807576497e-05, 5.345741907755534e-05, 5.352497100830078e-05, 5.340178807576497e-05, 5.324284235636393e-05, 5.3258736928304035e-05, 5.222558975219727e-05, 5.2193800608317055e-05, 5.313555399576823e-05, 5.180040995279948e-05, 5.28256098429362e-05, 5.228519439697266e-05, 5.1804383595784505e-05, 6.150404612223307e-05, 5.2642822265625e-05, 5.333820978800456e-05, 5.281368891398112e-05, 5.21699587504069e-05, 5.195538202921549e-05, 5.050102869669596e-05, 5.162954330444336e-05, 5.263487497965495e-05, 5.1816304524739586e-05, 5.293687184651693e-05, 5.533297856648763e-05, 5.184809366861979e-05, 5.11010487874349e-05, 5.0858656565348306e-05, 5.159775416056315e-05, 5.153814951578776e-05, 5.138715108235677e-05, 5.0957997639973955e-05, 5.088249842325846e-05, 5.0743420918782554e-05, 5.171298980712891e-05, 5.14070192972819e-05, 5.1812330881754556e-05, 5.099773406982422e-05, 5.046526590983073e-05, 5.109707514444987e-05, 5.1752726236979166e-05, 5.1641464233398436e-05, 5.11010487874349e-05, 5.124807357788086e-05, 5.1073233286539714e-05, 5.093018213907878e-05, 5.1017602284749346e-05, 5.0640106201171876e-05, 5.160172780354818e-05, 5.043745040893555e-05, 5.078713099161784e-05, 5.036195119222005e-05, 5.071163177490234e-05, 5.067586898803711e-05, 5.0338109334309894e-05, 6.112257639567057e-05, 5.1756699879964195e-05, 5.016326904296875e-05, 5.1530202229817707e-05, 5.059242248535156e-05, 5.28256098429362e-05, 4.965861638387044e-05, 5.195538202921549e-05, 5.1581859588623046e-05, 5.037784576416016e-05, 5.036592483520508e-05, 5.060036977132161e-05, 5.105336507161458e-05, 5.1025549570719404e-05, 5.0687789916992186e-05, 5.1085154215494795e-05, 5.0457318623860675e-05, 5.083084106445312e-05, 5.327860514322917e-05, 5.074739456176758e-05, 5.030234654744466e-05, 5.0512949625651043e-05, 5.0409634908040365e-05, 5.0131479899088545e-05, 5.036195119222005e-05, 5.0799051920572916e-05, 5.005200703938802e-05, 5.028247833251953e-05, 5.043347676595052e-05, 5.0119558970133464e-05, 5.053281784057617e-05, 5.033413569132487e-05, 5.074739456176758e-05, 4.97738520304362e-05, 5.005995432535807e-05, 5.037784576416016e-05, 5.919535954793294e-05, 5.0278504689534503e-05, 5.251169204711914e-05, 4.9495697021484374e-05, 5.0969918568929036e-05, 5.139907201131185e-05, 5.27501106262207e-05, 5.100170771280924e-05, 5.170106887817383e-05, 5.050500233968099e-05, 5.102952321370443e-05, 5.1311651865641276e-05, 5.083084106445312e-05, 5.0457318623860675e-05, 6.393194198608398e-05, 9.034474690755208e-05, 5.81820805867513e-05, 5.205074946085612e-05, 4.91937001546224e-05, 4.85380490620931e-05, 4.879633585611979e-05, 4.763603210449219e-05, 4.847844441731771e-05, 4.7596295674641925e-05, 4.85380490620931e-05, 6.212790807088216e-05, 6.436904271443685e-05, 5.050102869669596e-05, 4.992485046386719e-05, 4.892746607462565e-05, 4.893938700358073e-05, 4.806915918986003e-05, 4.752874374389648e-05, 4.848639170328776e-05, 4.795392354329427e-05, 4.7882397969563804e-05, 4.863739013671875e-05, 5.936225255330403e-05, 4.49220339457194e-05, 4.814465840657552e-05, 4.491408665974935e-05, 4.420280456542969e-05, 4.530747731526693e-05, 4.416704177856445e-05, 4.3793519337972006e-05, 4.538297653198242e-05, 4.448890686035156e-05, 4.413127899169922e-05, 4.613796869913737e-05, 4.7278404235839846e-05, 4.7485033671061196e-05, 4.7830740610758465e-05, 4.7719478607177736e-05, 4.7711531321207684e-05, 4.876057306925456e-05, 4.77910041809082e-05, 4.731019337972005e-05, 4.8605600992838543e-05, 4.8943360646565755e-05, 5.289316177368164e-05, 8.071263631184896e-05, 6.99162483215332e-05, 5.028247833251953e-05, 4.899899164835612e-05, 4.922946294148763e-05, 5.142688751220703e-05, 4.986921946207682e-05, 5.095402399698893e-05, 5.294879277547201e-05, 5.234877268473307e-05, 5.391438802083333e-05, 5.267858505249023e-05, 6.173054377237956e-05, 5.2762031555175784e-05, 5.587339401245117e-05, 5.166927973429362e-05, 4.97738520304362e-05, 4.9050649007161455e-05, 4.9285093943277995e-05, 4.880825678507487e-05, 4.90109125773112e-05, 4.9686431884765626e-05, 5.0179163614908855e-05, 5.031426747639974e-05, 5.033016204833984e-05, 4.957914352416992e-05, 4.8955281575520836e-05, 4.8724810282389325e-05, 4.9281120300292966e-05, 5.003213882446289e-05, 5.0131479899088545e-05, 5.038976669311523e-05, 5.0139427185058596e-05, 4.9904982248942056e-05, 4.971822102864583e-05, 4.982153574625651e-05, 5.009571711222331e-05, 5.004008611043294e-05, 4.964272181193034e-05, 4.870891571044922e-05, 4.9384435017903644e-05, 5.157788594563802e-05, 5.089044570922851e-05, 5.021890004475911e-05, 5.144278208414714e-05, 5.155007044474284e-05, 5.0687789916992186e-05, 5.8317184448242186e-05, 5.251963933308919e-05, 8.896986643473308e-05, 8.012056350708008e-05, 8.067687352498372e-05, 4.971822102864583e-05, 7.471640904744466e-05, 7.795095443725586e-05, 7.665554682413737e-05, 7.745822270711263e-05, 8.389552434285482e-05, 5.844434102376302e-05, 4.8828125e-05, 4.984140396118164e-05, 5.0397713979085285e-05, 5.102952321370443e-05, 5.123615264892578e-05, 5.193948745727539e-05, 5.218982696533203e-05, 5.1705042521158856e-05, 5.2869319915771484e-05, 5.381504694620768e-05, 5.307992299397786e-05, 5.324681599934896e-05, 5.299647649129232e-05, 5.2356719970703124e-05, 5.201498667399088e-05, 5.278587341308594e-05, 5.3111712137858076e-05, 5.316734313964844e-05, 6.714264551798503e-05, 5.695025126139323e-05, 5.319515864054362e-05, 5.4053465525309245e-05, 5.4212411244710285e-05, 5.369186401367187e-05, 5.419651667277018e-05, 5.457401275634766e-05, 5.2857398986816404e-05, 5.312363306681315e-05, 5.283753077189128e-05, 5.32229741414388e-05, 5.342562993367513e-05, 5.2762031555175784e-05, 5.4494539896647135e-05, 5.463361740112305e-05, 5.4677327473958336e-05, 5.454222361246745e-05, 5.426804224650065e-05, 5.430380503336589e-05, 5.422830581665039e-05, 5.437533060709635e-05, 5.47329584757487e-05, 5.429983139038086e-05, 5.426804224650065e-05, 5.3318341573079425e-05, 5.28415044148763e-05, 5.3139527638753253e-05, 5.278189977010091e-05, 5.31315803527832e-05, 5.420843760172526e-05, 5.447069803873698e-05, 5.4454803466796876e-05, 5.4212411244710285e-05, 5.3759415944417315e-05, 5.3540865580240885e-05, 6.854534149169922e-05, 5.5778026580810544e-05, 5.6862831115722656e-05, 5.3711732228597005e-05, 5.7625770568847654e-05, 5.356073379516602e-05, 5.327860514322917e-05, 5.387465159098307e-05, 5.250374476114909e-05, 5.229711532592773e-05, 5.138715108235677e-05, 5.1311651865641276e-05, 5.1355361938476564e-05, 5.1462650299072264e-05, 5.151033401489258e-05, 5.0139427185058596e-05, 5.0139427185058596e-05, 5.008776982625326e-05, 5.004405975341797e-05, 4.98652458190918e-05, 5.003611246744792e-05, 4.981358846028646e-05, 4.9948692321777344e-05, 4.970232645670573e-05, 5.048116048177083e-05, 5.054473876953125e-05, 4.996458689371745e-05, 5.0055980682373044e-05, 5.887746810913086e-05, 4.96983528137207e-05, 5.1852067311604815e-05, 5.269050598144531e-05, 4.9960613250732425e-05, 5.0628185272216796e-05, 5.052487055460612e-05, 5.0858656565348306e-05, 5.136728286743164e-05, 5.009571711222331e-05, 5.065202713012695e-05, 5.0238768259684245e-05, 5.078315734863281e-05, 5.058447519938151e-05, 5.071163177490234e-05, 5.364020665486653e-05, 5.2138169606526694e-05, 5.255540211995443e-05, 5.194346110026042e-05, 5.4335594177246095e-05, 5.1585833231608075e-05, 5.1875909169514976e-05, 5.30083974202474e-05, 5.31315803527832e-05, 5.310773849487305e-05, 5.310376485188802e-05, 5.333820978800456e-05, 5.289713541666667e-05, 5.341370900472005e-05, 5.3552786509195965e-05, 5.295674006144206e-05, 5.339384078979492e-05, 5.3219000498453776e-05, 5.295276641845703e-05, 5.31156857808431e-05, 5.3147474924723305e-05, 5.281368891398112e-05, 5.3207079569498696e-05, 5.4653485616048174e-05, 5.4677327473958336e-05, 6.511211395263672e-05, 5.46574592590332e-05, 5.385478337605794e-05, 5.417664845784505e-05, 5.652904510498047e-05, 5.312363306681315e-05, 5.346536636352539e-05, 5.4848194122314456e-05, 5.319118499755859e-05, 5.360841751098633e-05, 5.2142143249511716e-05, 5.18957773844401e-05, 5.2257378896077475e-05, 5.050102869669596e-05, 5.11010487874349e-05, 5.184412002563476e-05, 5.497137705485026e-05, 5.099773406982422e-05, 5.036989847819011e-05, 5.002816518147787e-05, 5.021890004475911e-05, 5.128383636474609e-05, 5.161364873250325e-05, 5.16812006632487e-05, 5.1410992940266925e-05, 5.173285802205403e-05, 5.173285802205403e-05, 5.255540211995443e-05, 5.194346110026042e-05, 5.1359335581461586e-05, 5.074739456176758e-05, 5.015929539998372e-05, 5.044142405192057e-05, 5.01712163289388e-05, 5.0230820973714194e-05, 4.986921946207682e-05, 5.0191084543863935e-05, 5.1132837931315105e-05, 5.1085154215494795e-05, 5.165338516235352e-05, 5.1403045654296874e-05, 6.602207819620769e-05, 5.1697095235188804e-05, 5.0063927968343096e-05, 5.04295031229655e-05, 5.050500233968099e-05, 5.048116048177083e-05, 5.056460698445638e-05, 5.009571711222331e-05, 5.01553217569987e-05, 5.0167242685953774e-05, 5.0123532613118486e-05, 5.032618840535482e-05, 5.034208297729492e-05, 4.987319310506185e-05, 4.979372024536133e-05, 4.959901173909505e-05, 4.9968560536702476e-05, 4.9837430318196614e-05, 4.96983528137207e-05, 5.0119558970133464e-05, 5.055665969848633e-05, 5.0012270609537764e-05, 5.036989847819011e-05, 4.913012186686198e-05, 5.0175189971923825e-05, 4.920164744059245e-05, 5.027055740356445e-05, 4.992882410685221e-05, 5.029439926147461e-05, 5.000034968058268e-05, 7.494688034057618e-05, 8.147160212198893e-05, 7.634162902832031e-05, 7.539590199788412e-05, 7.297992706298829e-05, 4.482269287109375e-05, 4.4735272725423175e-05, 4.564523696899414e-05, 4.492998123168945e-05, 4.436175028483073e-05, 4.700422286987305e-05, 4.8605600992838543e-05, 4.835128784179688e-05, 4.96824582417806e-05, 4.9126148223876956e-05, 4.870891571044922e-05, 4.890759785970052e-05, 4.97738520304362e-05, 5.0131479899088545e-05, 5.009969075520833e-05, 5.0063927968343096e-05, 5.0067901611328125e-05, 5.009571711222331e-05, 5.014737447102865e-05, 5.0004323323567705e-05, 4.953940709431966e-05, 4.913806915283203e-05, 5.0008296966552734e-05, 5.0187110900878906e-05, 5.0187110900878906e-05, 4.998445510864258e-05, 4.934072494506836e-05, 4.880428314208984e-05, 4.965066909790039e-05, 4.9885114034016924e-05, 5.034208297729492e-05, 5.031426747639974e-05, 5.667606989542643e-05, 5.1685174306233724e-05, 5.0055980682373044e-05, 5.305608113606771e-05, 5.1351388295491535e-05, 5.0286451975504555e-05, 5.0791104634602864e-05, 5.0063927968343096e-05, 4.970630009969075e-05, 4.941225051879883e-05, 4.9897034962972005e-05, 4.99884287516276e-05, 5.036989847819011e-05, 5.066394805908203e-05, 5.0167242685953774e-05, 5.2805741628011065e-05, 5.038579305013021e-05, 5.137920379638672e-05, 6.09278678894043e-05, 8.689959843953451e-05, 8.388757705688477e-05, 8.805195490519206e-05, 8.997519810994466e-05, 8.906920750935872e-05, 6.30338986714681e-05, 5.3612391153971356e-05, 5.399783452351888e-05, 6.0387452443440755e-05, 5.475680033365885e-05, 5.348523457845052e-05, 5.5619080861409505e-05, 5.351702372233073e-05, 5.417664845784505e-05, 5.3664048512776695e-05, 5.3429603576660155e-05, 5.37872314453125e-05, 5.357265472412109e-05, 5.327463150024414e-05, 5.451043446858724e-05, 5.73118527730306e-05, 7.704496383666992e-05, 5.048513412475586e-05, 4.976987838745117e-05, 4.975001017252604e-05, 5.131959915161133e-05, 5.1132837931315105e-05, 5.1422913869222006e-05, 5.198319753011068e-05, 5.266666412353516e-05, 5.316734313964844e-05, 5.321502685546875e-05, 5.315542221069336e-05, 5.357662836710612e-05, 5.319515864054362e-05, 5.3147474924723305e-05, 5.2265326182047526e-05, 5.184809366861979e-05, 5.189975102742513e-05, 5.229314168294271e-05, 5.156596501668294e-05, 5.240043004353841e-05, 5.205869674682617e-05, 5.178451538085937e-05, 5.168914794921875e-05, 6.491740544637045e-05, 5.15898068745931e-05, 5.5166085561116535e-05, 5.13911247253418e-05, 5.121231079101563e-05, 7.250706354777018e-05, 8.387168248494467e-05, 5.441506703694661e-05, 5.548000335693359e-05, 5.677143732706706e-05, 5.633036295572917e-05, 5.369186401367187e-05, 5.3322315216064454e-05, 5.554358164469401e-05, 5.239248275756836e-05, 5.201896031697591e-05, 5.414883295694987e-05, 5.190769831339518e-05, 5.425214767456055e-05, 5.1919619242350264e-05, 5.228122075398763e-05, 5.531708399454753e-05, 5.402962366739909e-05, 5.373954772949219e-05, 5.5046876271565753e-05, 5.32229741414388e-05, 5.527337392171224e-05, 5.498329798380534e-05, 5.4001808166503906e-05, 6.386439005533854e-05, 5.3783257802327476e-05, 6.198485692342123e-05, 5.366802215576172e-05, 5.681912104288737e-05, 5.539258321126302e-05, 5.561113357543945e-05, 5.726814270019531e-05, 5.525747934977214e-05, 5.5408477783203126e-05, 5.694230397542318e-05, 5.5106480916341144e-05, 5.639394124348958e-05, 5.464553833007812e-05, 5.446672439575195e-05, 5.530118942260742e-05, 5.387465159098307e-05, 5.526145299275716e-05, 5.370775858561198e-05, 5.4272015889485675e-05, 5.542834599812825e-05, 5.3652127583821614e-05, 5.734364191691081e-05, 5.508661270141602e-05, 5.6850910186767575e-05, 5.50389289855957e-05, 5.328257878621419e-05, 5.340973536173503e-05, 5.184412002563476e-05, 5.2022933959960935e-05, 5.256334940592448e-05, 5.211830139160156e-05, 5.042155583699544e-05, 5.134344100952148e-05, 5.038181940714518e-05, 5.929867426554362e-05, 5.1025549570719404e-05, 5.278189977010091e-05, 5.1573912302652994e-05, 5.0357977549235026e-05, 5.071560541788737e-05, 5.0512949625651043e-05, 5.104144414265951e-05, 5.106528600056966e-05, 5.043745040893555e-05, 5.076726277669271e-05, 5.1927566528320315e-05, 5.116065343221029e-05, 6.733338038126628e-05, 5.877812703450521e-05, 4.566510518391927e-05, 4.709164301554362e-05, 4.8343340555826826e-05, 4.969040552775065e-05, 5.003611246744792e-05, 5.0226847330729164e-05, 5.0226847330729164e-05, 5.037784576416016e-05, 5.019505818684896e-05, 5.022287368774414e-05, 5.010763804117838e-05, 5.0187110900878906e-05, 5.134741465250651e-05, 5.15898068745931e-05, 5.162159601847331e-05, 5.187193552652995e-05, 5.9775511423746745e-05, 5.138317743937175e-05, 5.244811375935872e-05, 5.148649215698242e-05, 5.166530609130859e-05, 5.3258736928304035e-05, 5.0691763559977215e-05, 5.250374476114909e-05, 5.110502243041992e-05, 5.074739456176758e-05, 5.104144414265951e-05, 5.070765813191732e-05, 5.100568135579427e-05, 5.0862630208333336e-05, 5.067586898803711e-05, 5.136728286743164e-05, 5.030234654744466e-05, 5.481243133544922e-05, 5.038579305013021e-05, 5.049705505371094e-05, 5.095402399698893e-05, 5.183617273966471e-05, 5.100170771280924e-05, 5.078315734863281e-05, 5.02626101175944e-05, 5.013545354207357e-05, 5.0914287567138675e-05, 5.144675572713216e-05, 5.200306574503581e-05, 5.167722702026367e-05, 5.1867961883544925e-05, 5.229711532592773e-05, 5.1526228586832684e-05, 5.1923592885335286e-05, 5.165338516235352e-05, 5.156199137369792e-05, 5.1927566528320315e-05, 6.0335795084635416e-05, 5.105336507161458e-05, 5.2022933959960935e-05, 5.161364873250325e-05, 5.28415044148763e-05, 5.4653485616048174e-05, 5.188783009847005e-05, 5.335410435994466e-05, 5.254348119099935e-05, 5.172491073608398e-05, 5.278984705607096e-05, 5.1422913869222006e-05, 5.232890446980794e-05, 5.250374476114909e-05, 5.0902366638183594e-05, 5.218187967936198e-05, 5.111296971638997e-05, 5.2364667256673175e-05, 5.284945170084635e-05, 5.041360855102539e-05, 5.048910776774089e-05, 5.128383636474609e-05, 5.184809366861979e-05, 5.189975102742513e-05, 5.172491073608398e-05, 5.048910776774089e-05, 5.1180521647135414e-05, 5.162954330444336e-05, 5.171298980712891e-05, 5.058447519938151e-05, 5.156199137369792e-05, 5.15898068745931e-05, 5.170901616414388e-05, 5.1637490590413414e-05, 6.0562292734781904e-05, 5.071560541788737e-05, 5.128781000773112e-05, 5.024274190266927e-05, 5.1792462666829424e-05, 5.460182825724284e-05, 5.052884419759115e-05, 5.119641621907552e-05, 5.20785649617513e-05, 5.2265326182047526e-05, 5.128781000773112e-05, 5.0580501556396486e-05, 5.063613255818685e-05, 5.047718683878581e-05, 5.249182383219401e-05, 5.165735880533854e-05, 5.1764647165934247e-05, 5.474487940470378e-05, 5.0469239552815756e-05, 5.1073233286539714e-05, 5.1470597585042316e-05, 5.1470597585042316e-05, 5.1410992940266925e-05, 5.126396814982097e-05, 5.151033401489258e-05, 5.133152008056641e-05, 5.161364873250325e-05, 5.165735880533854e-05, 5.1637490590413414e-05, 5.193154017130534e-05, 5.1462650299072264e-05, 5.0687789916992186e-05, 5.1069259643554685e-05, 5.143880844116211e-05, 5.126396814982097e-05, 5.161364873250325e-05, 5.143086115519206e-05, 6.280342737833659e-05, 5.083481470743815e-05, 5.102952321370443e-05, 5.1184495290120444e-05, 5.174080530802409e-05, 5.529324213663737e-05, 5.279779434204101e-05, 5.2316983540852865e-05, 5.224148432413737e-05, 5.303223927815755e-05, 5.211432774861654e-05, 5.170901616414388e-05, 5.220969518025716e-05, 5.2881240844726565e-05, 5.166927973429362e-05, 5.2245457967122394e-05, 5.1697095235188804e-05, 5.504290262858073e-05, 5.2527586619059244e-05, 5.376736323038737e-05, 5.1705042521158856e-05, 5.178054173787435e-05, 5.162954330444336e-05, 5.137523015340169e-05, 5.155007044474284e-05, 5.21699587504069e-05, 5.1180521647135414e-05, 5.217393239339193e-05, 5.154609680175781e-05, 5.172093709309896e-05, 5.239248275756836e-05, 8.308887481689453e-05, 7.332960764567057e-05, 5.575815836588542e-05, 4.7930081685384114e-05, 4.976987838745117e-05, 4.5398871103922524e-05, 4.5982996622721356e-05, 4.461208979288737e-05, 4.5235951741536455e-05, 4.9678484598795575e-05, 4.779497782389323e-05, 4.6984354654947916e-05, 5.0167242685953774e-05, 4.8089027404785154e-05, 4.944006601969401e-05, 4.924535751342774e-05, 4.814068476359049e-05, 5.031824111938477e-05, 4.8784414927164715e-05, 4.830360412597656e-05, 4.887580871582031e-05, 4.7377745310465495e-05, 4.728237787882487e-05, 5.16812006632487e-05, 4.7651926676432293e-05, 4.862149556477865e-05, 5.1585833231608075e-05, 4.909833272298177e-05, 5.278984705607096e-05, 5.032618840535482e-05, 4.8836072285970054e-05, 5.193154017130534e-05, 5.4836273193359375e-05, 4.8891703287760416e-05, 5.157788594563802e-05, 4.9591064453125e-05, 4.914204279581706e-05, 5.21540641784668e-05, 4.897117614746094e-05, 5.223751068115234e-05, 4.9948692321777344e-05, 6.146430969238282e-05, 5.360841751098633e-05, 5.330244700113932e-05, 5.036195119222005e-05, 5.076726277669271e-05, 4.9849351247151695e-05, 4.925727844238281e-05, 5.0079822540283206e-05, 4.895925521850586e-05, 4.926125208536784e-05, 5.009571711222331e-05, 4.8430760701497394e-05, 4.98652458190918e-05, 4.869302113850911e-05, 4.957119623819987e-05, 4.936059315999349e-05, 4.935661951700847e-05, 4.733403523763021e-05, 4.682143529256185e-05, 4.668235778808594e-05, 4.504521687825521e-05, 4.594723383585612e-05, 4.557371139526367e-05, 4.543860753377279e-05, 4.527966181437174e-05, 4.561344782511393e-05, 4.498958587646484e-05, 4.516839981079101e-05, 4.596710205078125e-05, 4.622538884480794e-05, 4.61737314860026e-05, 4.6130021413167315e-05, 4.6193599700927734e-05, 5.795955657958984e-05, 4.698038101196289e-05, 5.0063927968343096e-05, 4.648764928181966e-05, 4.620949427286784e-05, 4.682143529256185e-05, 4.6924750010172525e-05, 4.628896713256836e-05, 4.690488179524739e-05, 4.649957021077474e-05, 4.622538884480794e-05, 7.344484329223633e-05, 7.474819819132487e-05, 7.644097010294597e-05, 6.456772486368815e-05, 4.509290059407552e-05, 4.527966181437174e-05, 4.45246696472168e-05, 4.4627984364827475e-05, 4.424254099527995e-05, 4.4063727060953775e-05, 4.460811614990234e-05, 4.6304861704508464e-05, 4.869302113850911e-05, 4.86294428507487e-05, 4.885594050089518e-05, 4.850625991821289e-05, 4.957119623819987e-05, 4.885594050089518e-05, 4.8522154490153e-05, 4.89354133605957e-05, 4.879633585611979e-05, 4.843473434448242e-05, 4.7659873962402345e-05, 4.749298095703125e-05, 4.729827245076497e-05, 4.764000574747721e-05, 4.724661509195963e-05, 4.824399948120117e-05, 6.036758422851562e-05, 4.802147547403971e-05, 5.213022232055664e-05, 4.811684290568034e-05, 4.84466552734375e-05, 4.9448013305664064e-05, 4.907846450805664e-05, 4.865328470865885e-05, 4.9225489298502605e-05, 4.881620407104492e-05, 4.8327445983886716e-05, 4.887978235880534e-05, 4.870096842447917e-05, 4.845460255940755e-05, 4.86294428507487e-05, 4.86453374226888e-05, 4.884004592895508e-05, 4.8661231994628905e-05, 4.8442681630452475e-05, 4.959503809611003e-05, 4.869699478149414e-05, 4.8430760701497394e-05, 4.9622853597005207e-05, 4.847844441731771e-05, 4.856586456298828e-05, 4.884004592895508e-05, 4.94996706644694e-05, 4.989306131998698e-05, 4.999240239461263e-05, 4.96824582417806e-05, 4.936854044596354e-05, 4.891157150268555e-05, 6.151596705118815e-05, 5.165338516235352e-05, 5.1522254943847655e-05, 4.565715789794922e-05, 4.740556081136068e-05, 4.530747731526693e-05, 4.564523696899414e-05, 4.914601643880208e-05, 5.042155583699544e-05, 5.077918370564778e-05, 5.129575729370117e-05, 5.021890004475911e-05, 5.026658376057943e-05, 5.167325337727864e-05, 5.0012270609537764e-05, 5.193154017130534e-05, 5.002816518147787e-05, 5.032221476236979e-05, 5.212227503458659e-05, 5.0687789916992186e-05, 5.1585833231608075e-05, 5.257527033487956e-05, 5.1522254943847655e-05, 5.201498667399088e-05, 5.35885492960612e-05, 5.176067352294922e-05, 5.229314168294271e-05, 5.151033401489258e-05, 5.3552786509195965e-05, 5.182027816772461e-05, 5.161762237548828e-05, 5.216201146443685e-05, 5.3544839223225914e-05, 5.170106887817383e-05, 5.38031260172526e-05, 5.155404408772786e-05, 5.165735880533854e-05, 5.3147474924723305e-05, 6.380875905354818e-05, 5.7967503865559894e-05, 5.0640106201171876e-05, 5.200306574503581e-05, 5.159775416056315e-05, 5.1645437876383465e-05, 5.184412002563476e-05, 5.1526228586832684e-05, 5.1693121592203775e-05, 5.188385645548503e-05, 5.1867961883544925e-05, 5.184014638264974e-05, 5.061229070027669e-05, 5.1466623942057293e-05, 5.18957773844401e-05, 5.076328913370768e-05, 5.0687789916992186e-05, 5.1403045654296874e-05, 5.141894022623698e-05, 5.132357279459636e-05, 5.165735880533854e-05, 5.143880844116211e-05, 5.087852478027344e-05, 5.0286451975504555e-05, 5.143086115519206e-05, 5.190769831339518e-05, 5.161762237548828e-05, 5.1470597585042316e-05, 5.1641464233398436e-05]}\n"
          ]
        }
      ],
      "source": [
        "print(metrics)"
      ]
    },
    {
      "cell_type": "markdown",
      "metadata": {},
      "source": [
        "# 3 Final Model"
      ]
    },
    {
      "cell_type": "code",
      "execution_count": 28,
      "metadata": {},
      "outputs": [],
      "source": [
        "\n",
        "class MetricsEvaluator:\n",
        "    def __init__(self, model: str) -> None:\n",
        "        self.model = model\n",
        "        self.metrics = {\n",
        "            \"time_to_converge\": 0,\n",
        "            \"best_fitness\": 0,\n",
        "            \"best_chromosome\": None\n",
        "        }\n",
        "\n",
        "    def __repr__(self) -> str:\n",
        "        return f\"MetricsEvaluator({self.model})\"\n",
        "    \n",
        "    def __str__(self) -> str:\n",
        "        return f\"MetricsEvaluator of Model: {self.model} with Metrics: {self.metrics}\"\n",
        "\n",
        "    def start_timer(self):\n",
        "        self.start_time = time.time()\n",
        "\n",
        "    def stop_timer(self):\n",
        "        self.metrics[\"time_to_converge\"] = time.time() - self.start_time // 60\n",
        "\n",
        "    def update_metrics(self, best_chromosome: Chromosome, best_fitness: float):\n",
        "        self.metrics[\"best_fitness\"] = best_fitness\n",
        "        self.metrics[\"best_chromosome\"] = best_chromosome\n",
        "        \n",
        "class GeneticAlgorithm:\n",
        "    def __init__(self, population_size: int, mutation_rate: float, crossover_rate: float, generations: int, fitness_threshold: float, subjects: Dict[str, Subject], professors: Dict[str, Professor], classrooms: Dict[str, Classroom], classgroups: Dict[str, ClassGroup]) -> None:\n",
        "        self.population_size = population_size\n",
        "        self.mutation_rate = mutation_rate\n",
        "        self.crossover_rate = crossover_rate\n",
        "        self.generations = generations\n",
        "        self.fitness_threshold = fitness_threshold\n",
        "        self.subjects = subjects\n",
        "        self.professors = professors\n",
        "        self.classrooms = classrooms\n",
        "        self.classrooms = classrooms\n",
        "        self.classgroups = classgroups\n",
        "\n",
        "\n",
        "    def generate_initial_population(self) -> Population:\n",
        "        print(f\"Creating population with {self.population_size} chromosomes, {len(self.subjects)} subjects, {len(self.professors)} professors and {len(self.classrooms)} classrooms\")\n",
        "        population = Population()\n",
        "        for _ in range(self.population_size):\n",
        "            chromosome = Chromosome()\n",
        "            for subject, subject_data in self.subjects.items():\n",
        "                for professor in subject_data.professors:\n",
        "                    for classgroup in self.classgroups.values():\n",
        "                        for _ in range((subject_data.course_load // 36)):\n",
        "                            for classroom, classroom_data in self.classrooms.items():\n",
        "                                if classgroup.students <= classroom_data.capacity:\n",
        "                                    day, time = random.choice(list(set(self.professors[professor].availability) & set(classroom_data.availability)))\n",
        "                                    gene = Gene(self.professors[professor], subject_data, day, time)\n",
        "                                    chromosome.add_gene(gene)\n",
        "            population.add_chromosome(chromosome)\n",
        "        return population\n",
        "    \n",
        "    def calculate_chromosome_fitness(self, chromosome: Chromosome) -> float:\n",
        "        fitness = 1.0\n",
        "        conflicts = 0\n",
        "        timeslot_count = {}\n",
        "        room_usage = {}\n",
        "        for gene in chromosome.genes:\n",
        "            # Contar uso de horários por professor\n",
        "            if (gene.professor.name, gene.day, gene.time) in timeslot_count:\n",
        "                timeslot_count[(gene.professor.name, gene.day, gene.time)] += 1\n",
        "            else:\n",
        "                timeslot_count[(gene.professor.name, gene.day, gene.time)] = 1\n",
        "            # Contar uso de salas\n",
        "            if (gene.subject.name, gene.day, gene.time) in room_usage:\n",
        "                room_usage[(gene.subject.name, gene.day, gene.time)] += 1\n",
        "            else:\n",
        "                room_usage[(gene.subject.name, gene.day, gene.time)] = 1\n",
        "        for count in timeslot_count.values():\n",
        "            if count > 1:\n",
        "                conflicts += (count - 1)\n",
        "        for count in room_usage.values():\n",
        "            if count > 1:\n",
        "                conflicts += (count - 1)\n",
        "        # Verificar capacidade da sala\n",
        "        for gene in chromosome.genes:\n",
        "            if gene.classgroup.students > gene.classroom.capacity:\n",
        "                conflicts += 1\n",
        "        # Reduzir a fitness por conflito\n",
        "        fitness -= conflicts * 0.1\n",
        "        if fitness < 0:\n",
        "            fitness = 0\n",
        "        return fitness\n",
        "    \n",
        "    def selection(self, population: Population) -> List[Chromosome]:\n",
        "        mating_pool = []\n",
        "        population_fitness = [(chromosome, self.calculate_chromosome_fitness(chromosome)) for chromosome in population.chromosomes]\n",
        "        population_fitness.sort(key=lambda x: x[1], reverse=True)\n",
        "        for i in range(len(population_fitness)):\n",
        "            if random.random() < (i / len(population_fitness)):\n",
        "                mating_pool.append(population_fitness[i][0])\n",
        "        return mating_pool\n",
        "    \n",
        "    def crossover(self, mating_pool: List[Chromosome]) -> List[Chromosome]:\n",
        "        offspring = []\n",
        "        for _ in range(len(mating_pool) // 2):\n",
        "            parent1 = random.choice(mating_pool)\n",
        "            parent2 = random.choice(mating_pool)\n",
        "            if random.random() < self.crossover_rate:\n",
        "                point = random.randint(1, len(parent1.genes) - 1)\n",
        "                child1 = Chromosome()\n",
        "                child2 = Chromosome()\n",
        "                child1.genes = parent1.genes[:point] + parent2.genes[point:]\n",
        "                child2.genes = parent2.genes[:point] + parent1.genes[point:]\n",
        "                offspring.extend([child1, child2])\n",
        "            else:\n",
        "                offspring.extend([parent1, parent2])\n",
        "        return offspring\n",
        "    \n",
        "    def mutate(self, mating_pool: List[Chromosome]) -> List[Chromosome]:\n",
        "        for chromosome in mating_pool:\n",
        "            for gene in chromosome.genes:\n",
        "                if random.random() < self.mutation_rate:\n",
        "                    # available_times = list(set(self.professors[gene.professor.name].time_available) & set(self.classrooms))\n",
        "                    available_times = list(set(self.professors[gene.professor.name].availability) & set(self.classrooms[gene.classroom.name].availability))\n",
        "                    day, time = random.choice(available_times)\n",
        "                    gene.day = day\n",
        "                    gene.time = time\n",
        "        return mating_pool\n",
        "    \n",
        "    def replace_population(self, population: Population, mating_pool: List[Chromosome]) -> List[Chromosome]:\n",
        "        population_fitness = [(chromosome, self.calculate_chromosome_fitness(chromosome)) for chromosome in population.chromosomes]\n",
        "        population_fitness.sort(key=lambda x: x[1])\n",
        "        mating_pool_fitness = [(chromosome, self.calculate_chromosome_fitness(chromosome)) for chromosome in mating_pool]\n",
        "        mating_pool_fitness.sort(key=lambda x: x[1], reverse=True)\n",
        "        for i in range(len(mating_pool_fitness)):\n",
        "            if mating_pool_fitness[i][1] > population_fitness[i][1]:\n",
        "                population_fitness[i] = mating_pool_fitness[i]\n",
        "        return [chromosome for chromosome, fitness in population_fitness]\n",
        "\n",
        "    def run(self) -> Tuple[Chromosome, MetricsEvaluator]:\n",
        "        metrics_evaluator = MetricsEvaluator(\"Genetic Algorithm\")\n",
        "        metrics_evaluator.start_timer()\n",
        "        population = generate_initial_population(self.population_size, self.subjects, self.professors, self.classrooms)\n",
        "        best_chromosome = None\n",
        "        for generation in range(0, self.generations):\n",
        "            print(f\"Evaluating generation: {generation}\")\n",
        "\n",
        "            # Calcula a \"nota\" (fitness) de cada conjunto de horários\n",
        "            population_fitness = [calculate_chromosome_fitness(chromosome) for chromosome in population.chromosomes]\n",
        "\n",
        "            # Encontra a melhor \"nota\" atual\n",
        "            best_fitness = max(population_fitness)\n",
        "\n",
        "            if best_fitness >= self.fitness_threshold:\n",
        "                print(f\"Fitness threshold reached in generation {generation}\")\n",
        "                best_chromosome = population.chromosomes[population_fitness.index(best_fitness)]\n",
        "                break\n",
        "\n",
        "            mating_pool = selection(population)\n",
        "            mating_pool = crossover(mating_pool, self.crossover_rate)\n",
        "            mating_pool = mutate(mating_pool, self.mutation_rate, self.professors, self.subjects, self.classrooms)\n",
        "            population = replace_population(population, mating_pool)\n",
        "\n",
        "        if best_chromosome is None:\n",
        "            best_chromosome = population.chromosomes[population_fitness.index(max(population_fitness))]\n",
        "        metrics_evaluator.stop_timer()\n",
        "        metrics_evaluator.update_metrics(best_chromosome, best_fitness)\n",
        "        print(f\"Best chromosome: {best_chromosome}, Fitness: {best_fitness}\")\n",
        "        return best_chromosome, metrics_evaluator"
      ]
    }
  ],
  "metadata": {
    "colab": {
      "provenance": []
    },
    "kernelspec": {
      "display_name": "Python 3",
      "name": "python3"
    },
    "language_info": {
      "codemirror_mode": {
        "name": "ipython",
        "version": 3
      },
      "file_extension": ".py",
      "mimetype": "text/x-python",
      "name": "python",
      "nbconvert_exporter": "python",
      "pygments_lexer": "ipython3",
      "version": "3.11.9"
    }
  },
  "nbformat": 4,
  "nbformat_minor": 0
}
