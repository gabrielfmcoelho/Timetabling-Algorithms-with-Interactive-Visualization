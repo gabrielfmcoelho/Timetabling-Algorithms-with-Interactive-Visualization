{
  "cells": [
    {
      "cell_type": "markdown",
      "metadata": {
        "id": "qEpAE0Uw2rEf"
      },
      "source": [
        "# Avaliar Solução"
      ]
    },
    {
      "cell_type": "code",
      "execution_count": 2,
      "metadata": {
        "id": "vaXIpEG42nbg"
      },
      "outputs": [],
      "source": [
        "from typing import List, Dict\n",
        "\n",
        "def evaluate_solution(schedule: List[Dict]) -> int:\n",
        "    conflicts = 0\n",
        "    used_times = {}\n",
        "    used_rooms = {}\n",
        "\n",
        "    for class_info in schedule:\n",
        "        for day_schedule in class_info['schedule']:\n",
        "            for period in day_schedule['periods']:\n",
        "                time_key = (day_schedule['day'], period.get('time'))\n",
        "                room_key = (day_schedule['day'], period.get('time'), period.get('room'))\n",
        "\n",
        "                # Conflito de horários\n",
        "                if time_key in used_times:\n",
        "                    conflicts += 1\n",
        "                used_times[time_key] = True\n",
        "\n",
        "                # Conflito de salas\n",
        "                if room_key in used_rooms:\n",
        "                    conflicts += 1\n",
        "                used_rooms[room_key] = True\n",
        "\n",
        "    return conflicts"
      ]
    },
    {
      "cell_type": "markdown",
      "metadata": {
        "id": "SNgOPXD82_Az"
      },
      "source": [
        "# Avaliar Métricas"
      ]
    },
    {
      "cell_type": "code",
      "execution_count": 3,
      "metadata": {
        "id": "_baV_K7l3FP3"
      },
      "outputs": [],
      "source": [
        "import json\n",
        "import time\n",
        "\n",
        "from typing import Any\n",
        "\n",
        "class MetricsEvaluator:\n",
        "    def __init__(self, model: str) -> None:\n",
        "        self.model = model\n",
        "        self.metrics = {\n",
        "            \"time_to_converge\": 0,\n",
        "            \"best_conflicts\": 0,\n",
        "            \"best_elite_fitness\": 0,\n",
        "            \"best_chromosome\": None,\n",
        "            \"iterations\": 0,\n",
        "            \"avg_conflicts_history\": [], # Pure fitness conflicts\n",
        "            \"avg_elite_fitness_history\": [], # Fitness with conflicts resolved\n",
        "            \"time_to_evaluate\": [],\n",
        "        }\n",
        "\n",
        "    def __repr__(self) -> str:\n",
        "        return f\"MetricsEvaluator({self.model})\"\n",
        "\n",
        "    def __str__(self) -> str:\n",
        "        return f\"MetricsEvaluator of Model: {self.model} with Metrics: {self.metrics}\"\n",
        "\n",
        "    def start_timer(self) -> None:\n",
        "        self.start_time = time.time()\n",
        "\n",
        "    def stop_timer(self):\n",
        "        self.metrics[\"time_to_converge\"] = (time.time() - self.start_time) / 60\n",
        "\n",
        "    def start_iteration_timer(self) -> None:\n",
        "        self.iteration_start_time = time.time()\n",
        "\n",
        "    def stop_iteration_timer(self) -> None:\n",
        "        self.metrics[\"time_to_evaluate\"].append((time.time() - self.iteration_start_time) / 60)\n",
        "\n",
        "    def update_metrics(self, iteration: int, avg_conflicts: float, avg_elite_fitness: float|None = None) -> None:\n",
        "        self.metrics[\"iterations\"] = iteration\n",
        "        self.metrics[\"avg_conflicts_history\"].append(avg_conflicts)\n",
        "        if avg_elite_fitness is not None:\n",
        "            self.metrics[\"avg_elite_fitness_history\"].append(avg_elite_fitness)\n",
        "\n",
        "    def update_best_metric(self, best_timetable: Any, best_conflicts: float, best_elite_fitness: float|None = None) -> None:\n",
        "        self.metrics[\"best_timetable\"] = best_timetable\n",
        "        self.metrics[\"best_conflicts\"] = best_conflicts\n",
        "        if best_elite_fitness is not None:\n",
        "            self.metrics[\"best_elite_fitness\"] = best_elite_fitness\n",
        "\n",
        "    def save_metrics(self, file_path: str) -> None:\n",
        "        with open(file_path, \"w\") as file:\n",
        "            json.dump(self.metrics, file, indent=4)\n",
        "\n",
        "\n",
        "metrics_evaluator = MetricsEvaluator(\"Local Search Algorithm\")"
      ]
    },
    {
      "cell_type": "markdown",
      "metadata": {
        "id": "Ba_RMT_y2NK0"
      },
      "source": [
        "# Gerar Solução Inicial"
      ]
    },
    {
      "cell_type": "code",
      "execution_count": 4,
      "metadata": {
        "id": "hMI3V58uAIWw"
      },
      "outputs": [],
      "source": [
        "from typing import List, Dict\n",
        "import random\n",
        "\n",
        "def generate_initial_solution(\n",
        "    classes: List[Dict],\n",
        "    teachers: List[Dict],\n",
        "    rooms: List[Dict],\n",
        "    times: List[Dict],\n",
        "    subjects: List[Dict],\n",
        "    days: List[Dict]\n",
        ") -> List[Dict]:\n",
        "\n",
        "    schedule = []\n",
        "    for class_info in classes:\n",
        "        class_schedule = []\n",
        "\n",
        "        for day in days:\n",
        "            day_name = day['name']\n",
        "            day_schedule = {'day': day_name, 'periods': []}\n",
        "\n",
        "            for time in times:\n",
        "                time_info = f\"{time['start']} - {time['end']}\"\n",
        "                available_rooms = [room for room in rooms if day['id'] in room['days'] and time['id'] in room['times']]\n",
        "\n",
        "                suitable_rooms = [room for room in available_rooms if room['capacity'] >= class_info['studentsAmount']]\n",
        "                random_room = random.choice(suitable_rooms) if suitable_rooms else None\n",
        "\n",
        "                if random_room:\n",
        "                    room_name = random_room['name']\n",
        "                else:\n",
        "                    room_name = \"No suitable room available\"\n",
        "\n",
        "                random_teacher = random.choice(teachers)\n",
        "                subject = random.choice(random_teacher['subjects'])\n",
        "                teacher_name = random_teacher['name']\n",
        "\n",
        "                period = {\n",
        "                    \"day\": day_name,\n",
        "                    \"time\": time_info,\n",
        "                    \"subject\": next((sub['name'] for sub in subjects if sub['id'] == subject), None),\n",
        "                    \"teacher\": teacher_name,\n",
        "                    \"room\": room_name\n",
        "                }\n",
        "                day_schedule['periods'].append(period)\n",
        "\n",
        "            class_schedule.append(day_schedule)\n",
        "\n",
        "        schedule.append({\"id\": class_info['id'], \"name\": class_info['name'], \"schedule\": class_schedule})\n",
        "\n",
        "    return schedule"
      ]
    },
    {
      "cell_type": "markdown",
      "metadata": {
        "id": "a0dFz_gO2akN"
      },
      "source": [
        "# Local Search"
      ]
    },
    {
      "cell_type": "code",
      "execution_count": 5,
      "metadata": {
        "id": "0xxtD2bz2SzU"
      },
      "outputs": [],
      "source": [
        "import random\n",
        "from copy import deepcopy\n",
        "from typing import List, Dict\n",
        "\n",
        "from copy import deepcopy\n",
        "from typing import List, Dict\n",
        "import random\n",
        "\n",
        "\n",
        "def local_search(\n",
        "    classes: List[Dict],\n",
        "    teachers: List[Dict],\n",
        "    rooms: List[Dict],\n",
        "    times: List[Dict],\n",
        "    subjects: List[Dict],\n",
        "    days: List[Dict],\n",
        "    max_iterations: int = 1000\n",
        ") -> List[Dict]:\n",
        "\n",
        "    def get_available_rooms(day_id: int, time_id: int) -> List[Dict]:\n",
        "        return [room for room in rooms if day_id in room['days'] and time_id in room['times']]\n",
        "\n",
        "    best_solution = generate_initial_solution(classes, teachers, rooms, times, subjects, days)\n",
        "    best_score = evaluate_solution(best_solution)\n",
        "\n",
        "    for _ in range(max_iterations):\n",
        "        metrics_evaluator.start_iteration_timer()\n",
        "        candidate_solution = deepcopy(best_solution)\n",
        "\n",
        "        # Perturbação: Troca aleatória de alguns horários\n",
        "        for class_info in candidate_solution:\n",
        "            for day_schedule in class_info['schedule']:\n",
        "                day_id = next(day['id'] for day in days if day['name'] == day_schedule['day'])\n",
        "                for idx, period in enumerate(day_schedule['periods']):\n",
        "                    available_rooms = get_available_rooms(day_id, idx + 1)\n",
        "                    if available_rooms:\n",
        "                        random_room = random.choice(available_rooms)\n",
        "                        period['room'] = random_room['name']\n",
        "                    else:\n",
        "                        period['room'] = \"No room available\"\n",
        "\n",
        "        candidate_score = evaluate_solution(candidate_solution)\n",
        "\n",
        "        if candidate_score < best_score:\n",
        "            best_solution = deepcopy(candidate_solution)\n",
        "            best_score = candidate_score\n",
        "\n",
        "            metrics_evaluator.update_metrics(best_solution, best_score)\n",
        "            metrics_evaluator.stop_iteration_timer()\n",
        "\n",
        "        metrics_evaluator.update_best_metric(candidate_solution, candidate_score)\n",
        "        metrics_evaluator.stop_timer()\n",
        "\n",
        "    return best_solution, metrics_evaluator"
      ]
    },
    {
      "cell_type": "markdown",
      "metadata": {
        "id": "Y-BjkNDs21nk"
      },
      "source": [
        "# Rodar o Algoritmo"
      ]
    },
    {
      "cell_type": "code",
      "execution_count": null,
      "metadata": {
        "id": "23h-zlsT26A7"
      },
      "outputs": [],
      "source": [
        "import json\n",
        "\n",
        "if __name__ == \"__main__\":\n",
        "    metrics_evaluator.start_timer()\n",
        "\n",
        "    with open('./data/inputs/input1.json', 'r') as file:\n",
        "        data = json.load(file)\n",
        "\n",
        "    classes = data['classes']\n",
        "    teachers = data['teachers']\n",
        "    rooms = data['rooms']\n",
        "    times = data['times']\n",
        "    subjects = data['subjects']\n",
        "    days = data['days']\n",
        "\n",
        "    best_schedule, metrics_evaluator = local_search(classes, teachers, rooms, times, subjects, days)\n",
        "\n",
        "    print(metrics_evaluator)\n",
        "\n",
        "    with open('./data/outputs/timetabling_output.json', 'w') as file:\n",
        "        json.dump(best_schedule, file, indent=2, ensure_ascii=False)\n",
        "\n",
        "    print(\"Timetabling concluído. Resultados salvos em 'data/outputs/timetabling_output.json'.\")"
      ]
    }
  ],
  "metadata": {
    "colab": {
      "provenance": []
    },
    "kernelspec": {
      "display_name": "Python 3",
      "name": "python3"
    },
    "language_info": {
      "codemirror_mode": {
        "name": "ipython",
        "version": 3
      },
      "file_extension": ".py",
      "mimetype": "text/x-python",
      "name": "python",
      "nbconvert_exporter": "python",
      "pygments_lexer": "ipython3",
      "version": "3.12.0"
    }
  },
  "nbformat": 4,
  "nbformat_minor": 0
}
